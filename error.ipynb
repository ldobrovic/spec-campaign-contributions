{
 "cells": [
  {
   "cell_type": "markdown",
   "metadata": {},
   "source": [
    "# Notebook to issue corrections for missed donations from institutions with \"Southern\" and \"Brirish\" in name"
   ]
  },
  {
   "cell_type": "markdown",
   "metadata": {},
   "source": [
    "### Such as \"Columbia Southern University\" and \"University of Brirish [sic] Columbia\""
   ]
  },
  {
   "cell_type": "markdown",
   "metadata": {},
   "source": [
    "## Import and clean data"
   ]
  },
  {
   "cell_type": "code",
   "execution_count": 18,
   "metadata": {},
   "outputs": [
    {
     "name": "stdout",
     "output_type": "stream",
     "text": [
      "/Users/lukedobrovic/Data/Spectator/personal-campaign-contributions\n"
     ]
    },
    {
     "name": "stderr",
     "output_type": "stream",
     "text": [
      "/opt/anaconda3/lib/python3.7/site-packages/IPython/core/interactiveshell.py:3058: DtypeWarning: Columns (12,18,20,32,50,51,53,54,57,59) have mixed types.Specify dtype option on import or set low_memory=False.\n",
      "  interactivity=interactivity, compiler=compiler, result=result)\n"
     ]
    },
    {
     "data": {
      "text/plain": [
       "Index(['committee_id', 'committee_name', 'report_year', 'report_type',\n",
       "       'image_number', 'line_number', 'transaction_id', 'file_number',\n",
       "       'committee_name.1', 'entity_type', 'entity_type_desc',\n",
       "       'unused_contbr_id', 'contributor_prefix', 'contributor_name',\n",
       "       'recipient_committee_type', 'recipient_committee_org_type',\n",
       "       'recipient_committee_designation', 'contributor_first_name',\n",
       "       'contributor_middle_name', 'contributor_last_name',\n",
       "       'contributor_suffix', 'contributor_street_1', 'contributor_street_2',\n",
       "       'contributor_city', 'contributor_state', 'contributor_zip',\n",
       "       'contributor_employer', 'contributor_occupation', 'contributor_id',\n",
       "       'receipt_type', 'receipt_type_desc', 'receipt_type_full', 'memo_code',\n",
       "       'memo_code_full', 'contribution_receipt_date',\n",
       "       'contribution_receipt_amount', 'contributor_aggregate_ytd',\n",
       "       'candidate_id', 'candidate_name', 'candidate_first_name',\n",
       "       'candidate_last_name', 'candidate_middle_name', 'candidate_prefix',\n",
       "       'candidate_suffix', 'candidate_office', 'candidate_office_full',\n",
       "       'candidate_office_state', 'candidate_office_state_full',\n",
       "       'candidate_office_district', 'conduit_committee_id',\n",
       "       'conduit_committee_name', 'conduit_committee_street1',\n",
       "       'conduit_committee_street2', 'conduit_committee_city',\n",
       "       'conduit_committee_state', 'conduit_committee_zip',\n",
       "       'donor_committee_name', 'national_committee_nonfederal_account',\n",
       "       'election_type', 'election_type_full', 'fec_election_type_desc',\n",
       "       'fec_election_year', 'amendment_indicator', 'amendment_indicator_desc',\n",
       "       'schedule_type_full', 'load_date', 'original_sub_id',\n",
       "       'back_reference_transaction_id', 'back_reference_schedule_name',\n",
       "       'filing_form', 'link_id', 'is_individual', 'memo_text',\n",
       "       'two_year_transaction_period', 'schedule_type', 'increased_limit',\n",
       "       'sub_id', 'pdf_url', 'line_number_label'],\n",
       "      dtype='object')"
      ]
     },
     "execution_count": 18,
     "metadata": {},
     "output_type": "execute_result"
    }
   ],
   "source": [
    "import os\n",
    "import pandas as pd\n",
    "import numpy as np\n",
    "import matplotlib.pyplot as plt\n",
    "\n",
    "DIR = os.getcwd()\n",
    "print(DIR)\n",
    "\n",
    "\n",
    "\n",
    "df = pd.read_csv(DIR + \"/2019to2020contributions.csv\",\n",
    "                    parse_dates = [\"contribution_receipt_date\"]) \n",
    "\n",
    "df.columns"
   ]
  },
  {
   "cell_type": "code",
   "execution_count": 19,
   "metadata": {},
   "outputs": [],
   "source": [
    "df_selections = df[[ \"committee_name\", \"contribution_receipt_date\",\n",
    "                    \"contribution_receipt_amount\", \"contributor_employer\", \n",
    "                   \"contributor_occupation\", \"contributor_first_name\", \n",
    "                   \"contributor_middle_name\", \"contributor_last_name\"]]\n",
    "\n",
    "faux = [\"MISSOURI\", \"BRITISH\", \"DISTRICT\", \"CHICAGO\", \"INTERNATIONAL\", \"MO\", \"UNIVERSITY HOSPITAL\", \"FLORIDA\",\n",
    "       \"CAROLINA\"]\n",
    "\n",
    "df_selections = df_selections[~df_selections.contributor_employer.str.contains('|'.join(faux))]\n",
    "\n",
    "df_selections = df_selections[df_selections[\"contribution_receipt_amount\"] >= 0]  "
   ]
  },
  {
   "cell_type": "markdown",
   "metadata": {},
   "source": [
    "## Make dataframe with contributions from \"Southern\" and \"Brirish\" affiliates"
   ]
  },
  {
   "cell_type": "code",
   "execution_count": 20,
   "metadata": {},
   "outputs": [
    {
     "name": "stdout",
     "output_type": "stream",
     "text": [
      "(262, 8)\n",
      "Total errors donations:  24500.300000000003\n"
     ]
    }
   ],
   "source": [
    "errors = [\"SOUTHERN\", \"BRIRISH\"]\n",
    "\n",
    "df_errors = df_selections[df_selections[\"contributor_employer\"].str.contains('|'.join(errors))]\n",
    "print(df_errors.shape)\n",
    "print(\"Total errors donations: \", df_errors[\"contribution_receipt_amount\"].sum())"
   ]
  },
  {
   "cell_type": "markdown",
   "metadata": {},
   "source": [
    "## Make Biden and Trump dataframes with contributions from missed institutions, compute donation totals"
   ]
  },
  {
   "cell_type": "code",
   "execution_count": 21,
   "metadata": {},
   "outputs": [
    {
     "name": "stdout",
     "output_type": "stream",
     "text": [
      "biden shape:  (3, 8)\n",
      "trump shape:  (15, 8)\n"
     ]
    }
   ],
   "source": [
    "df_biden = df_errors[df_errors[\"committee_name\"].str.contains(\"BIDEN FOR PRESIDENT\")]\n",
    "df_biden.reset_index()\n",
    "print(\"biden shape: \", df_biden.shape)\n",
    "\n",
    "df_trump = df_errors[df_errors[\"committee_name\"].str.contains(\"DONALD J. TRUMP FOR PRESIDENT, INC.\")]\n",
    "df_trump.reset_index()\n",
    "print(\"trump shape: \", df_trump.shape)"
   ]
  },
  {
   "cell_type": "code",
   "execution_count": 22,
   "metadata": {},
   "outputs": [
    {
     "name": "stdout",
     "output_type": "stream",
     "text": [
      "biden total $:  150.0\n",
      "trump total $:  1528.75\n"
     ]
    }
   ],
   "source": [
    "print(\"biden total $: \", df_biden[\"contribution_receipt_amount\"].sum())\n",
    "print(\"trump total $: \", df_trump[\"contribution_receipt_amount\"].sum())"
   ]
  },
  {
   "cell_type": "markdown",
   "metadata": {},
   "source": [
    "## Track donations to committes from error institutions"
   ]
  },
  {
   "cell_type": "code",
   "execution_count": 23,
   "metadata": {},
   "outputs": [
    {
     "data": {
      "text/html": [
       "<div>\n",
       "<style scoped>\n",
       "    .dataframe tbody tr th:only-of-type {\n",
       "        vertical-align: middle;\n",
       "    }\n",
       "\n",
       "    .dataframe tbody tr th {\n",
       "        vertical-align: top;\n",
       "    }\n",
       "\n",
       "    .dataframe thead th {\n",
       "        text-align: right;\n",
       "    }\n",
       "</style>\n",
       "<table border=\"1\" class=\"dataframe\">\n",
       "  <thead>\n",
       "    <tr style=\"text-align: right;\">\n",
       "      <th></th>\n",
       "      <th>index</th>\n",
       "      <th>committee_name</th>\n",
       "      <th>contribution_receipt_amount</th>\n",
       "    </tr>\n",
       "  </thead>\n",
       "  <tbody>\n",
       "    <tr>\n",
       "      <th>0</th>\n",
       "      <td>3</td>\n",
       "      <td>BYRNE FOR SENATE, INC.</td>\n",
       "      <td>7000.00</td>\n",
       "    </tr>\n",
       "    <tr>\n",
       "      <th>1</th>\n",
       "      <td>8</td>\n",
       "      <td>JERRY CARL FOR CONGRESS</td>\n",
       "      <td>3150.00</td>\n",
       "    </tr>\n",
       "    <tr>\n",
       "      <th>2</th>\n",
       "      <td>6</td>\n",
       "      <td>FRIENDS OF SESSIONS SENATE COMMITTEE INC</td>\n",
       "      <td>2500.00</td>\n",
       "    </tr>\n",
       "    <tr>\n",
       "      <th>3</th>\n",
       "      <td>0</td>\n",
       "      <td>ACTBLUE</td>\n",
       "      <td>2179.55</td>\n",
       "    </tr>\n",
       "    <tr>\n",
       "      <th>4</th>\n",
       "      <td>7</td>\n",
       "      <td>HIGHTOWER FOR ALABAMA</td>\n",
       "      <td>2000.00</td>\n",
       "    </tr>\n",
       "    <tr>\n",
       "      <th>5</th>\n",
       "      <td>9</td>\n",
       "      <td>MIKE ROGERS FOR CONGRESS</td>\n",
       "      <td>1668.00</td>\n",
       "    </tr>\n",
       "    <tr>\n",
       "      <th>6</th>\n",
       "      <td>5</td>\n",
       "      <td>DONALD J. TRUMP FOR PRESIDENT, INC.</td>\n",
       "      <td>1528.75</td>\n",
       "    </tr>\n",
       "    <tr>\n",
       "      <th>7</th>\n",
       "      <td>13</td>\n",
       "      <td>TRUMP MAKE AMERICA GREAT AGAIN COMMITTEE</td>\n",
       "      <td>1125.00</td>\n",
       "    </tr>\n",
       "    <tr>\n",
       "      <th>8</th>\n",
       "      <td>10</td>\n",
       "      <td>REPUBLICAN NATIONAL COMMITTEE</td>\n",
       "      <td>1000.00</td>\n",
       "    </tr>\n",
       "    <tr>\n",
       "      <th>9</th>\n",
       "      <td>4</td>\n",
       "      <td>DEFEND AMERICA PAC</td>\n",
       "      <td>834.00</td>\n",
       "    </tr>\n",
       "    <tr>\n",
       "      <th>10</th>\n",
       "      <td>11</td>\n",
       "      <td>ROBERT ADERHOLT FOR CONGRESS</td>\n",
       "      <td>545.00</td>\n",
       "    </tr>\n",
       "    <tr>\n",
       "      <th>11</th>\n",
       "      <td>14</td>\n",
       "      <td>WINRED</td>\n",
       "      <td>320.00</td>\n",
       "    </tr>\n",
       "    <tr>\n",
       "      <th>12</th>\n",
       "      <td>1</td>\n",
       "      <td>ALYSE FOR ALASKA</td>\n",
       "      <td>250.00</td>\n",
       "    </tr>\n",
       "    <tr>\n",
       "      <th>13</th>\n",
       "      <td>12</td>\n",
       "      <td>SCHOLTEN4IOWA CAMPAIGN COMMITTEE</td>\n",
       "      <td>250.00</td>\n",
       "    </tr>\n",
       "    <tr>\n",
       "      <th>14</th>\n",
       "      <td>2</td>\n",
       "      <td>BIDEN FOR PRESIDENT</td>\n",
       "      <td>150.00</td>\n",
       "    </tr>\n",
       "  </tbody>\n",
       "</table>\n",
       "</div>"
      ],
      "text/plain": [
       "    index                            committee_name  \\\n",
       "0       3                    BYRNE FOR SENATE, INC.   \n",
       "1       8                   JERRY CARL FOR CONGRESS   \n",
       "2       6  FRIENDS OF SESSIONS SENATE COMMITTEE INC   \n",
       "3       0                                   ACTBLUE   \n",
       "4       7                     HIGHTOWER FOR ALABAMA   \n",
       "5       9                  MIKE ROGERS FOR CONGRESS   \n",
       "6       5       DONALD J. TRUMP FOR PRESIDENT, INC.   \n",
       "7      13  TRUMP MAKE AMERICA GREAT AGAIN COMMITTEE   \n",
       "8      10             REPUBLICAN NATIONAL COMMITTEE   \n",
       "9       4                        DEFEND AMERICA PAC   \n",
       "10     11              ROBERT ADERHOLT FOR CONGRESS   \n",
       "11     14                                    WINRED   \n",
       "12      1                          ALYSE FOR ALASKA   \n",
       "13     12          SCHOLTEN4IOWA CAMPAIGN COMMITTEE   \n",
       "14      2                       BIDEN FOR PRESIDENT   \n",
       "\n",
       "    contribution_receipt_amount  \n",
       "0                       7000.00  \n",
       "1                       3150.00  \n",
       "2                       2500.00  \n",
       "3                       2179.55  \n",
       "4                       2000.00  \n",
       "5                       1668.00  \n",
       "6                       1528.75  \n",
       "7                       1125.00  \n",
       "8                       1000.00  \n",
       "9                        834.00  \n",
       "10                       545.00  \n",
       "11                       320.00  \n",
       "12                       250.00  \n",
       "13                       250.00  \n",
       "14                       150.00  "
      ]
     },
     "execution_count": 23,
     "metadata": {},
     "output_type": "execute_result"
    }
   ],
   "source": [
    "df_committees = df_southern.groupby([\"committee_name\"], as_index=False).sum()\n",
    "df_committees.sort_values(by=\"contribution_receipt_amount\", ascending=False, inplace=True)\n",
    "df_committees.reset_index()"
   ]
  },
  {
   "cell_type": "markdown",
   "metadata": {},
   "source": [
    "## Find occupations of donations from error institutions "
   ]
  },
  {
   "cell_type": "code",
   "execution_count": 24,
   "metadata": {},
   "outputs": [
    {
     "data": {
      "text/plain": [
       "PROFESSOR                10\n",
       "ACADEMIC ADVISOR          3\n",
       "EDITOR                    2\n",
       "WEB DESIGNER              1\n",
       "VETERANS OUTREACH         1\n",
       "INSTRUCTOR                1\n",
       "ADMINISTRATOR             1\n",
       "ENGLISH PROFESSOR         1\n",
       "IEA SPECIALIST            1\n",
       "MEDIA MANAGER             1\n",
       "FINANCIAL AID ADVISOR     1\n",
       "REFERENCE LIBRARIAN       1\n",
       "UNIVERSITY PROFESSOR      1\n",
       "TEACHER                   1\n",
       "PRESIDENT                 1\n",
       "HIGHER ED                 1\n",
       "FINANCIAL AID             1\n",
       "ADMISSIONS COUNSELOR      1\n",
       "COURSE TECHNOLOGIST       1\n",
       "COMMS MANAGER             1\n",
       "Name: contributor_occupation, dtype: int64"
      ]
     },
     "execution_count": 24,
     "metadata": {},
     "output_type": "execute_result"
    }
   ],
   "source": [
    "df_occ = df_southern.drop_duplicates(subset=[\"contributor_last_name\", \"contributor_middle_name\",\n",
    "                                              \"contributor_middle_name\"])\n",
    "\n",
    "occupations = df_occ[\"contributor_occupation\"].value_counts()\n",
    "\n",
    "occupations"
   ]
  }
 ],
 "metadata": {
  "kernelspec": {
   "display_name": "Python 3",
   "language": "python",
   "name": "python3"
  },
  "language_info": {
   "codemirror_mode": {
    "name": "ipython",
    "version": 3
   },
   "file_extension": ".py",
   "mimetype": "text/x-python",
   "name": "python",
   "nbconvert_exporter": "python",
   "pygments_lexer": "ipython3",
   "version": "3.7.4"
  }
 },
 "nbformat": 4,
 "nbformat_minor": 4
}
