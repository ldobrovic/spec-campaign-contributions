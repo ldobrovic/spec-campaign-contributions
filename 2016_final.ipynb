{
 "cells": [
  {
   "cell_type": "markdown",
   "metadata": {},
   "source": [
    "## Import Data"
   ]
  },
  {
   "cell_type": "code",
   "execution_count": 72,
   "metadata": {
    "scrolled": true
   },
   "outputs": [
    {
     "name": "stdout",
     "output_type": "stream",
     "text": [
      "/Users/lukedobrovic/Data/Spectator/CampaignContributions\n"
     ]
    },
    {
     "name": "stderr",
     "output_type": "stream",
     "text": [
      "/opt/anaconda3/lib/python3.7/site-packages/IPython/core/interactiveshell.py:3058: DtypeWarning: Columns (12,15,57) have mixed types.Specify dtype option on import or set low_memory=False.\n",
      "  interactivity=interactivity, compiler=compiler, result=result)\n"
     ]
    },
    {
     "data": {
      "text/html": [
       "<div>\n",
       "<style scoped>\n",
       "    .dataframe tbody tr th:only-of-type {\n",
       "        vertical-align: middle;\n",
       "    }\n",
       "\n",
       "    .dataframe tbody tr th {\n",
       "        vertical-align: top;\n",
       "    }\n",
       "\n",
       "    .dataframe thead th {\n",
       "        text-align: right;\n",
       "    }\n",
       "</style>\n",
       "<table border=\"1\" class=\"dataframe\">\n",
       "  <thead>\n",
       "    <tr style=\"text-align: right;\">\n",
       "      <th></th>\n",
       "      <th>committee_id</th>\n",
       "      <th>committee_name</th>\n",
       "      <th>report_year</th>\n",
       "      <th>report_type</th>\n",
       "      <th>image_number</th>\n",
       "      <th>line_number</th>\n",
       "      <th>transaction_id</th>\n",
       "      <th>file_number</th>\n",
       "      <th>committee_name.1</th>\n",
       "      <th>entity_type</th>\n",
       "      <th>...</th>\n",
       "      <th>filing_form</th>\n",
       "      <th>link_id</th>\n",
       "      <th>is_individual</th>\n",
       "      <th>memo_text</th>\n",
       "      <th>two_year_transaction_period</th>\n",
       "      <th>schedule_type</th>\n",
       "      <th>increased_limit</th>\n",
       "      <th>sub_id</th>\n",
       "      <th>pdf_url</th>\n",
       "      <th>line_number_label</th>\n",
       "    </tr>\n",
       "  </thead>\n",
       "  <tbody>\n",
       "    <tr>\n",
       "      <th>0</th>\n",
       "      <td>C00465492</td>\n",
       "      <td>FRIENDS OF JOE SESTAK</td>\n",
       "      <td>2013</td>\n",
       "      <td>Q2</td>\n",
       "      <td>201507210200225038</td>\n",
       "      <td>11AI</td>\n",
       "      <td>NaN</td>\n",
       "      <td>1020266</td>\n",
       "      <td>NaN</td>\n",
       "      <td>IND</td>\n",
       "      <td>...</td>\n",
       "      <td>F3</td>\n",
       "      <td>1040720160018595573</td>\n",
       "      <td>t</td>\n",
       "      <td>NaN</td>\n",
       "      <td>2014</td>\n",
       "      <td>SA</td>\n",
       "      <td>NaN</td>\n",
       "      <td>1040720160018595836</td>\n",
       "      <td>http://docquery.fec.gov/cgi-bin/fecimg/?201507...</td>\n",
       "      <td>Contributions From Individuals/Persons Other T...</td>\n",
       "    </tr>\n",
       "    <tr>\n",
       "      <th>1</th>\n",
       "      <td>C00575795</td>\n",
       "      <td>HILLARY FOR AMERICA</td>\n",
       "      <td>2016</td>\n",
       "      <td>M10</td>\n",
       "      <td>201701099041150117</td>\n",
       "      <td>17A</td>\n",
       "      <td>C11241249</td>\n",
       "      <td>1137625</td>\n",
       "      <td>NaN</td>\n",
       "      <td>IND</td>\n",
       "      <td>...</td>\n",
       "      <td>F3P</td>\n",
       "      <td>4010920171359608009</td>\n",
       "      <td>t</td>\n",
       "      <td>NaN</td>\n",
       "      <td>2016</td>\n",
       "      <td>SA</td>\n",
       "      <td>NaN</td>\n",
       "      <td>4011120171366214585</td>\n",
       "      <td>http://docquery.fec.gov/cgi-bin/fecimg/?201701...</td>\n",
       "      <td>Contributions From Individuals/Persons Other T...</td>\n",
       "    </tr>\n",
       "    <tr>\n",
       "      <th>2</th>\n",
       "      <td>C00465492</td>\n",
       "      <td>FRIENDS OF JOE SESTAK</td>\n",
       "      <td>2013</td>\n",
       "      <td>Q2</td>\n",
       "      <td>201507210200225036</td>\n",
       "      <td>11AI</td>\n",
       "      <td>NaN</td>\n",
       "      <td>1020266</td>\n",
       "      <td>NaN</td>\n",
       "      <td>IND</td>\n",
       "      <td>...</td>\n",
       "      <td>F3</td>\n",
       "      <td>1040720160018595573</td>\n",
       "      <td>t</td>\n",
       "      <td>NaN</td>\n",
       "      <td>2014</td>\n",
       "      <td>SA</td>\n",
       "      <td>NaN</td>\n",
       "      <td>1040720160018595829</td>\n",
       "      <td>http://docquery.fec.gov/cgi-bin/fecimg/?201507...</td>\n",
       "      <td>Contributions From Individuals/Persons Other T...</td>\n",
       "    </tr>\n",
       "    <tr>\n",
       "      <th>3</th>\n",
       "      <td>C00575795</td>\n",
       "      <td>HILLARY FOR AMERICA</td>\n",
       "      <td>2016</td>\n",
       "      <td>12G</td>\n",
       "      <td>201701099041274498</td>\n",
       "      <td>17A</td>\n",
       "      <td>C12244496</td>\n",
       "      <td>1137788</td>\n",
       "      <td>NaN</td>\n",
       "      <td>IND</td>\n",
       "      <td>...</td>\n",
       "      <td>F3P</td>\n",
       "      <td>4010920171359608011</td>\n",
       "      <td>t</td>\n",
       "      <td>NaN</td>\n",
       "      <td>2016</td>\n",
       "      <td>SA</td>\n",
       "      <td>NaN</td>\n",
       "      <td>4011120171366556953</td>\n",
       "      <td>http://docquery.fec.gov/cgi-bin/fecimg/?201701...</td>\n",
       "      <td>Contributions From Individuals/Persons Other T...</td>\n",
       "    </tr>\n",
       "    <tr>\n",
       "      <th>4</th>\n",
       "      <td>C00179408</td>\n",
       "      <td>MAINE DEMOCRATIC PARTY</td>\n",
       "      <td>2016</td>\n",
       "      <td>M9</td>\n",
       "      <td>201909059163143517</td>\n",
       "      <td>11AI</td>\n",
       "      <td>11AI-000039245</td>\n",
       "      <td>1350680</td>\n",
       "      <td>NaN</td>\n",
       "      <td>IND</td>\n",
       "      <td>...</td>\n",
       "      <td>F3X</td>\n",
       "      <td>4090520191672279180</td>\n",
       "      <td>t</td>\n",
       "      <td>NaN</td>\n",
       "      <td>2016</td>\n",
       "      <td>SA</td>\n",
       "      <td>NaN</td>\n",
       "      <td>4090620191672313017</td>\n",
       "      <td>http://docquery.fec.gov/cgi-bin/fecimg/?201909...</td>\n",
       "      <td>Contributions From Individuals/Persons Other T...</td>\n",
       "    </tr>\n",
       "  </tbody>\n",
       "</table>\n",
       "<p>5 rows × 79 columns</p>\n",
       "</div>"
      ],
      "text/plain": [
       "  committee_id          committee_name  report_year report_type  \\\n",
       "0    C00465492   FRIENDS OF JOE SESTAK         2013          Q2   \n",
       "1    C00575795     HILLARY FOR AMERICA         2016         M10   \n",
       "2    C00465492   FRIENDS OF JOE SESTAK         2013          Q2   \n",
       "3    C00575795     HILLARY FOR AMERICA         2016         12G   \n",
       "4    C00179408  MAINE DEMOCRATIC PARTY         2016          M9   \n",
       "\n",
       "         image_number line_number  transaction_id  file_number  \\\n",
       "0  201507210200225038        11AI             NaN      1020266   \n",
       "1  201701099041150117         17A       C11241249      1137625   \n",
       "2  201507210200225036        11AI             NaN      1020266   \n",
       "3  201701099041274498         17A       C12244496      1137788   \n",
       "4  201909059163143517        11AI  11AI-000039245      1350680   \n",
       "\n",
       "   committee_name.1 entity_type  ... filing_form              link_id  \\\n",
       "0               NaN         IND  ...          F3  1040720160018595573   \n",
       "1               NaN         IND  ...         F3P  4010920171359608009   \n",
       "2               NaN         IND  ...          F3  1040720160018595573   \n",
       "3               NaN         IND  ...         F3P  4010920171359608011   \n",
       "4               NaN         IND  ...         F3X  4090520191672279180   \n",
       "\n",
       "  is_individual memo_text two_year_transaction_period schedule_type  \\\n",
       "0             t       NaN                        2014            SA   \n",
       "1             t       NaN                        2016            SA   \n",
       "2             t       NaN                        2014            SA   \n",
       "3             t       NaN                        2016            SA   \n",
       "4             t       NaN                        2016            SA   \n",
       "\n",
       "  increased_limit               sub_id  \\\n",
       "0             NaN  1040720160018595836   \n",
       "1             NaN  4011120171366214585   \n",
       "2             NaN  1040720160018595829   \n",
       "3             NaN  4011120171366556953   \n",
       "4             NaN  4090620191672313017   \n",
       "\n",
       "                                             pdf_url  \\\n",
       "0  http://docquery.fec.gov/cgi-bin/fecimg/?201507...   \n",
       "1  http://docquery.fec.gov/cgi-bin/fecimg/?201701...   \n",
       "2  http://docquery.fec.gov/cgi-bin/fecimg/?201507...   \n",
       "3  http://docquery.fec.gov/cgi-bin/fecimg/?201701...   \n",
       "4  http://docquery.fec.gov/cgi-bin/fecimg/?201909...   \n",
       "\n",
       "                                   line_number_label  \n",
       "0  Contributions From Individuals/Persons Other T...  \n",
       "1  Contributions From Individuals/Persons Other T...  \n",
       "2  Contributions From Individuals/Persons Other T...  \n",
       "3  Contributions From Individuals/Persons Other T...  \n",
       "4  Contributions From Individuals/Persons Other T...  \n",
       "\n",
       "[5 rows x 79 columns]"
      ]
     },
     "execution_count": 72,
     "metadata": {},
     "output_type": "execute_result"
    }
   ],
   "source": [
    "import os\n",
    "import pandas as pd\n",
    "import numpy as np\n",
    "\n",
    "DIR = os.getcwd()\n",
    "print(DIR)\n",
    "\n",
    "df = pd.read_csv(DIR + \"/2015to2016contributions.csv\",\n",
    "                    parse_dates = [\"contribution_receipt_date\"]) \n",
    "\n",
    "df.head()"
   ]
  },
  {
   "cell_type": "markdown",
   "metadata": {},
   "source": [
    "## Data Cleaning: Select desired columns, remove other \"Columbia\" institutions and remove negative values under contributions"
   ]
  },
  {
   "cell_type": "code",
   "execution_count": 73,
   "metadata": {},
   "outputs": [],
   "source": [
    "# df.columns\n",
    "df_selections = df[[ \"committee_name\", \"contribution_receipt_date\",\n",
    "                    \"contribution_receipt_amount\", \"contributor_employer\", \n",
    "                   \"contributor_occupation\", \"contributor_first_name\", \n",
    "                   \"contributor_middle_name\", \"contributor_last_name\"]]"
   ]
  },
  {
   "cell_type": "code",
   "execution_count": 74,
   "metadata": {},
   "outputs": [
    {
     "name": "stdout",
     "output_type": "stream",
     "text": [
      "(52, 8)\n",
      "Total Southern donations:  9760.5\n"
     ]
    }
   ],
   "source": [
    "df_southern = df_selections[df_selections[\"contributor_employer\"].str.contains(\"SOUTHERN\")]\n",
    "print(df_southern.shape)\n",
    "print(\"Total Southern donations: \", df_southern[\"contribution_receipt_amount\"].sum())\n"
   ]
  },
  {
   "cell_type": "code",
   "execution_count": 75,
   "metadata": {},
   "outputs": [
    {
     "name": "stdout",
     "output_type": "stream",
     "text": [
      "(0, 8)\n",
      "Total brirish donations:  0.0\n"
     ]
    }
   ],
   "source": [
    "df_brirish = df_selections[df_selections[\"contributor_employer\"].str.contains(\"BRIRISH\")]\n",
    "print(df_brirish.shape)\n",
    "print(\"Total brirish donations: \", df_brirish[\"contribution_receipt_amount\"].sum())"
   ]
  },
  {
   "cell_type": "code",
   "execution_count": 76,
   "metadata": {},
   "outputs": [
    {
     "data": {
      "text/html": [
       "<div>\n",
       "<style scoped>\n",
       "    .dataframe tbody tr th:only-of-type {\n",
       "        vertical-align: middle;\n",
       "    }\n",
       "\n",
       "    .dataframe tbody tr th {\n",
       "        vertical-align: top;\n",
       "    }\n",
       "\n",
       "    .dataframe thead th {\n",
       "        text-align: right;\n",
       "    }\n",
       "</style>\n",
       "<table border=\"1\" class=\"dataframe\">\n",
       "  <thead>\n",
       "    <tr style=\"text-align: right;\">\n",
       "      <th></th>\n",
       "      <th>committee_name</th>\n",
       "      <th>contribution_receipt_date</th>\n",
       "      <th>contribution_receipt_amount</th>\n",
       "      <th>contributor_employer</th>\n",
       "      <th>contributor_occupation</th>\n",
       "      <th>contributor_first_name</th>\n",
       "      <th>contributor_middle_name</th>\n",
       "      <th>contributor_last_name</th>\n",
       "    </tr>\n",
       "  </thead>\n",
       "  <tbody>\n",
       "    <tr>\n",
       "      <th>54</th>\n",
       "      <td>HILLARY FOR AMERICA</td>\n",
       "      <td>2016-09-15</td>\n",
       "      <td>50.0</td>\n",
       "      <td>COLUMBIA SOUTHERN UNIVERSITY</td>\n",
       "      <td>INSTRUCTOR</td>\n",
       "      <td>RENEE</td>\n",
       "      <td>NaN</td>\n",
       "      <td>COUREY</td>\n",
       "    </tr>\n",
       "    <tr>\n",
       "      <th>69</th>\n",
       "      <td>HILLARY FOR AMERICA</td>\n",
       "      <td>2016-10-08</td>\n",
       "      <td>50.0</td>\n",
       "      <td>COLUMBIA SOUTHERN UNIVERSITY</td>\n",
       "      <td>INSTRUCTOR</td>\n",
       "      <td>RENEE</td>\n",
       "      <td>NaN</td>\n",
       "      <td>COUREY</td>\n",
       "    </tr>\n",
       "    <tr>\n",
       "      <th>270</th>\n",
       "      <td>HILLARY FOR AMERICA</td>\n",
       "      <td>2016-10-17</td>\n",
       "      <td>1.0</td>\n",
       "      <td>COLUMBIA SOUTHERN UNIVERSITY</td>\n",
       "      <td>INSTRUCTOR</td>\n",
       "      <td>RENEE</td>\n",
       "      <td>NaN</td>\n",
       "      <td>COUREY</td>\n",
       "    </tr>\n",
       "    <tr>\n",
       "      <th>1078</th>\n",
       "      <td>ACTBLUE</td>\n",
       "      <td>2015-10-17</td>\n",
       "      <td>35.0</td>\n",
       "      <td>COLUMBIA SOUTHERN UNIVERSITY</td>\n",
       "      <td>ACADEMIC ADVISOR</td>\n",
       "      <td>ALEX</td>\n",
       "      <td>NaN</td>\n",
       "      <td>SAVORY-LEVINE</td>\n",
       "    </tr>\n",
       "    <tr>\n",
       "      <th>1651</th>\n",
       "      <td>ACTBLUE</td>\n",
       "      <td>2015-07-20</td>\n",
       "      <td>2.0</td>\n",
       "      <td>COLUMBIA SOUTHERN UNIVERSITY</td>\n",
       "      <td>LICENSURE AND STATE AUTHORIZATION SPEC</td>\n",
       "      <td>DAVID</td>\n",
       "      <td>NaN</td>\n",
       "      <td>LONGCRIER</td>\n",
       "    </tr>\n",
       "  </tbody>\n",
       "</table>\n",
       "</div>"
      ],
      "text/plain": [
       "           committee_name contribution_receipt_date  \\\n",
       "54    HILLARY FOR AMERICA                2016-09-15   \n",
       "69    HILLARY FOR AMERICA                2016-10-08   \n",
       "270   HILLARY FOR AMERICA                2016-10-17   \n",
       "1078              ACTBLUE                2015-10-17   \n",
       "1651              ACTBLUE                2015-07-20   \n",
       "\n",
       "      contribution_receipt_amount          contributor_employer  \\\n",
       "54                           50.0  COLUMBIA SOUTHERN UNIVERSITY   \n",
       "69                           50.0  COLUMBIA SOUTHERN UNIVERSITY   \n",
       "270                           1.0  COLUMBIA SOUTHERN UNIVERSITY   \n",
       "1078                         35.0  COLUMBIA SOUTHERN UNIVERSITY   \n",
       "1651                          2.0  COLUMBIA SOUTHERN UNIVERSITY   \n",
       "\n",
       "                      contributor_occupation contributor_first_name  \\\n",
       "54                                INSTRUCTOR                  RENEE   \n",
       "69                                INSTRUCTOR                  RENEE   \n",
       "270                               INSTRUCTOR                  RENEE   \n",
       "1078                        ACADEMIC ADVISOR                   ALEX   \n",
       "1651  LICENSURE AND STATE AUTHORIZATION SPEC                  DAVID   \n",
       "\n",
       "     contributor_middle_name contributor_last_name  \n",
       "54                       NaN                COUREY  \n",
       "69                       NaN                COUREY  \n",
       "270                      NaN                COUREY  \n",
       "1078                     NaN         SAVORY-LEVINE  \n",
       "1651                     NaN             LONGCRIER  "
      ]
     },
     "execution_count": 76,
     "metadata": {},
     "output_type": "execute_result"
    }
   ],
   "source": [
    "df_southern.head()"
   ]
  },
  {
   "cell_type": "code",
   "execution_count": 83,
   "metadata": {},
   "outputs": [],
   "source": [
    "faux = [\"MISSOURI\", \"BRITISH\", \"DISTRICT\", \"CHICAGO\", \"INTERNATIONAL\", \"MO\", \"UNIVERSITY HOSPITAL\", \"FLORIDA\",\n",
    "       \"CAROLINA\", \"SOUTHERN\"]\n",
    "\n",
    "df_selections = df_selections[~df_selections.contributor_employer.str.contains('|'.join(faux))]\n",
    "\n",
    "df_selections = df_selections[df_selections[\"contribution_receipt_amount\"] >= 0]  "
   ]
  },
  {
   "cell_type": "code",
   "execution_count": 84,
   "metadata": {
    "scrolled": true
   },
   "outputs": [
    {
     "data": {
      "text/plain": [
       "array(['COLUMBIA UNIVERSITY', 'TEACHERS COLLEGE, COLUMBIA UNIVERSITY',\n",
       "       'COLUMBIA UNIVERSITY COLLEGE OF PHYSICI',\n",
       "       'TEACHERS COLLEGE COLUMBIA UNIVERSITY',\n",
       "       'COLUMBIA UNIVERSITY MEDICAL CENTER', 'COLUMBIA UNIVERSITY SIPA',\n",
       "       \"COLUMBIA UNIVERSITY WOMENSTRONG INT'L\",\n",
       "       \"COLUMBIA UNIVERSITY WOMENSTRONG INT'L.\",\n",
       "       'COLUMBIA UNIVERSITY BUSINESS SCHOOL',\n",
       "       'UNIVERSITY OF THE DISTRCT OF COLUMBIA',\n",
       "       'COLUMBIA UNIVERSITY PRESS',\n",
       "       'COLUMBIA UNIVERSITY TEACHERS COLLEGE', 'COLUMBIA UNIVERSITY-SSA',\n",
       "       'COLUMBIA UNIVERSITY AND NEW YORK STATE',\n",
       "       'HHMI & COLUMBIA UNIVERSITY', 'CIESIN COLUMBIA UNIVERSITY',\n",
       "       'COLUMBIA UNIVERSITY, NY NY',\n",
       "       'AMERICAN ASSEMBLY, COLUMBIA UNIVERSITY', 'COLUMBIA  UNIVERSITY',\n",
       "       'TEACHERS COLLEGE - COLUMBIA UNIVERSITY',\n",
       "       'COLUMBIA UNIVERSITY IN NYC',\n",
       "       'COLUMBIA UNIVERSITY MAILMAN SCHOOL OF',\n",
       "       'COLUMBIA UNIVERSITY MSPH',\n",
       "       'COLUMBIA UNIVERSITY WEATHERHEAD INSTIT',\n",
       "       'UNIVERSITY OF TORONTO AND COLUMBIA UNI',\n",
       "       'NASA-COLUMBIA UNIVERSITY', 'COLUMBIA UNIVERSITY, NY',\n",
       "       'COLUMBIA UNIVERSITY IN THE CITY OF NEW',\n",
       "       'COLUMBIA UNIVERSITY, SIPA', 'THE SCHOOL AT COLUMBIA UNIVERSITY',\n",
       "       'CUMC,COLUMBIA UNIVERSITY', 'TC COLUMBIA UNIVERSITY',\n",
       "       'COLUMBIA UNIVERSITY (NY)',\n",
       "       'COLUMBIA UNIVERSITY SCHOOL OF SOCIAL W',\n",
       "       'TEACHERS COLLEGE,COLUMBIA UNIVERSITY',\n",
       "       'FORMERLY COLUMBIA UNIVERSITY',\n",
       "       'COLUMBIA UNIVERSITY - NEW YORK, NY',\n",
       "       'COLUMBIA UNIVERSITY, NEW YORK CITY',\n",
       "       'MILLER THEATRE AT COLUMBIA UNIVERSITY', 'COLUMBIA UNIVERSITY NY',\n",
       "       'COLUMBIA UNIVERSITY AND SELF-EMPLIOYED',\n",
       "       'COLUMBIA UNIVERSITY/ALLEN HOSPITAL',\n",
       "       'COLUMBIA UNIVERSITY PRESBYTERIAN HOSPI',\n",
       "       'LDEO COLUMBIA UNIVERSITY', 'IRWGS @ COLUMBIA UNIVERSITY',\n",
       "       'COLUMBIA UNIVERSITY,', 'COLUMBIA UNIVERSITY, RETIRED',\n",
       "       'UNITED STATES NAVY/COLUMBIA UNIVERSITY',\n",
       "       'COLUMBIA UNIVERSITY SCHOOL OF NURSING',\n",
       "       'TEACHERS COLLEGE,.COLUMBIA UNIVERSITY',\n",
       "       'COLUMBIA UNIVERSITY PUBLIC SAFETY',\n",
       "       'COLUMBIA UNIVERSITY LIBRARIES', 'COLUMBIA UNIVERSITY LAW SCHOOL',\n",
       "       'COLUMBIA UNIVERSITY/SELF',\n",
       "       'COLUMBIA UNIVERSITY/GREEN IVY SCHOOLS',\n",
       "       'COLUMBIA UNIVERSITY, NEW YORK, NY',\n",
       "       'TRUSTEES OF COLUMBIA UNIVERSITY',\n",
       "       'COLUMBIA UNIVERSITY, TEACHERS COLLEGE',\n",
       "       'COLUMBIA UNIVERSITY MEDICAL', 'RETIRED, COLUMBIA UNIVERSITY',\n",
       "       'FHI 360 & COLUMBIA UNIVERSITY',\n",
       "       'COLUMBIA UNIVERSITY MEDICAL CEMTER', 'NASA COLUMBIA UNIVERSITY',\n",
       "       'COLUMBIA UNIVERSITY/NYP HOSPITAL',\n",
       "       'COLUMBIA UNIVERSITY MEDICAL CE',\n",
       "       'COLUMBIA UNIVERSITY/SYMBOLIC EXCHANGE',\n",
       "       'SELF EMPLOYED AND COLUMBIA UNIVERSITY',\n",
       "       'PENDING - COLUMBIA UNIVERSITY', 'COLUMBIA (UNIVERSITY OF)',\n",
       "       'UNIVERSITY OF COLUMBIA', 'COLUMBIA UNIVERSITY SCHOOL OF MEDICINE',\n",
       "       'COLUMBIA UNIVERSITY (PART-TIME ADJUNCT',\n",
       "       'COLUMBIA UNIVERSITY NEW YORK',\n",
       "       'BARNARD COLLEGE, COLUMBIA UNIVERSITY',\n",
       "       'BARNARD COLLEGE - COLUMBIA UNIVERSITY',\n",
       "       'FREELANCE/COLUMBIA UNIVERSITY',\n",
       "       'NYP COLUMBIA UNIVERSITY MEDICAL CENTER',\n",
       "       'RETIRED COLUMBIA UNIVERSITY',\n",
       "       'RADON LAW OFFICES; COLUMBIA UNIVERSITY',\n",
       "       'COLUMBIA UNIVERSITY MEDICAL CTR.', 'COLUMBIA.UNIVERSITY',\n",
       "       'UNIVERSITY EVENTS MANAGEMENT, COLUMBIA',\n",
       "       'BARNARD COLLEGE AT COLUMBIA UNIVERSITY',\n",
       "       'COLUMBIA UNIVERSITY COLLEGE OF DENTAL', 'COLUMBIA UNIVERSITY.',\n",
       "       'COLUMBIA UNIVERSITY SIRA', 'UNIVERSITY OF MISSOUR-COLUMBIA',\n",
       "       'COLUMBIA UNIVERSITY STUDENT',\n",
       "       'COLUMBIA UNIVERSITY MEDICAL  CENTER',\n",
       "       'COLUMBIA UNIVERSITY/QUEENS COLLEGE',\n",
       "       'COLUMBIA UNIVERSITY-NEVIS LABS',\n",
       "       'BARNARD COLLEGE OF COLUMBIA UNIVERSITY',\n",
       "       'COLUMBIA UNIVERSITY TEACHERS COLLEG',\n",
       "       'COLUMBIA UNIVERSITY SCHOOL OF ARTS',\n",
       "       'GRADUATE STUDENT (COLUMBIA UNIVERSITY)',\n",
       "       \"COLUMBIA UNIVERSITY TEACHER'S COLLEGE\",\n",
       "       'COLUMBIA UNIVERSITY SCHOOL OF DENTAL M',\n",
       "       'UNIVERSITY OF MISSOUI-COLUMBIA',\n",
       "       'COLUMBIA UNIVERSITY AND THE NEW YORK S',\n",
       "       'COLUMBIA UNIVERSITY, DEPARTMENT OF HIS',\n",
       "       'HHMI/COLUMBIA UNIVERSITY'], dtype=object)"
      ]
     },
     "execution_count": 84,
     "metadata": {},
     "output_type": "execute_result"
    }
   ],
   "source": [
    "df_selections[\"contributor_employer\"].unique()"
   ]
  },
  {
   "cell_type": "code",
   "execution_count": 85,
   "metadata": {
    "scrolled": true
   },
   "outputs": [
    {
     "data": {
      "text/plain": [
       "array(['FRIENDS OF JOE SESTAK', 'HILLARY FOR AMERICA',\n",
       "       'MAINE DEMOCRATIC PARTY', 'FRIENDS OF JOHN PLUMB', 'NORPAC',\n",
       "       \"DNC SERVICES CORP./DEM. NAT'L COMMITTEE\",\n",
       "       'COLLEEN DEACON FOR CONGRESS', 'DR. MATT HEINZ FOR ARIZONA',\n",
       "       'FRIENDS OF CHERI BUSTOS',\n",
       "       'LATINO LEADERS FOR EQUALITY GROWTH OPPORTUNITY PROGRESSIVE ACTION & CHANGE (LLEGO-PAC)',\n",
       "       'KATIE MCGINTY FOR SENATE', 'ZEPHYR TEACHOUT FOR CONGRESS',\n",
       "       'REPUBLICAN NATIONAL COMMITTEE', 'JILL STEIN FOR PRESIDENT',\n",
       "       \"EMILY'S LIST\", 'ACTBLUE',\n",
       "       'POLITICAL ACTION COMMITTEE OF THE AMERICAN ASSOCIATION OF ORTHOPAEDIC SURGEONS--PAC OF AAOS',\n",
       "       'JULIA BROWNLEY FOR CONGRESS', 'KAINE FOR VIRGINIA',\n",
       "       'DEMOCRATIC ACTION', \"O'MALLEY FOR PRESIDENT\", 'MAGGIE FOR NH',\n",
       "       'CAROLINE FAYARD FOR US SENATE', 'DEBORAH ROSS FOR SENATE',\n",
       "       'FRIENDS OF SCHUMER', 'MARCO RUBIO FOR SENATE 2016',\n",
       "       'BENNET FOR COLORADO', 'TAMMY FOR ILLINOIS', 'DSCC',\n",
       "       'KAMALA HARRIS FOR SENATE',\n",
       "       'PROGRESSIVE CHANGE CAMPAIGN COMMITTEE', 'HILLARY ACTION FUND',\n",
       "       'TED DEUTCH FOR CONGRESS COMMITTEE',\n",
       "       'GREEN PARTY OF THE UNITED STATES', 'PROGRESSIVE TURNOUT PROJECT',\n",
       "       'JOSH GOTTHEIMER FOR CONGRESS', 'CAIN FOR CONGRESS', '314 PAC',\n",
       "       'OFF THE SIDELINES PAC', 'BRIAN SIMS FOR CONGRESS',\n",
       "       'DONALD J. TRUMP FOR PRESIDENT, INC.',\n",
       "       'FRIENDS OF ANNA THRONE-HOLST', 'FRIENDS OF SHAUGHNESSY NAUGHTON',\n",
       "       'FRIENDS OF ELIZABETH ESTY', 'HOUSE MAJORITY PAC',\n",
       "       'OBAMA FOR AMERICA', 'MOVEON.ORG POLITICAL ACTION', 'CHC BOLD PAC',\n",
       "       'BILL FOSTER FOR CONGRESS', 'RANGEL FOR CONGRESS',\n",
       "       'FRIENDS OF DENA', 'ERIC KINGSON FOR CONGRESS',\n",
       "       'FRIENDS OF RAJA FOR CONGRESS', 'VAN HOLLEN FOR SENATE',\n",
       "       'ELIZABETH FOR MA INC', 'CATHERINE CORTEZ MASTO FOR SENATE',\n",
       "       'FRIENDS OF SHERROD BROWN',\n",
       "       \"1199 SERVICE EMPLOYEES INT'L UNION FEDERAL POLITICAL ACTION FUND\",\n",
       "       'MARCO RUBIO FOR PRESIDENT', 'JEB 2016, INC.',\n",
       "       'AMERICAN ASSOCIATION OF CHILD & ADOLESCENT PSYCHIATRY PAC (AACAP-PAC)',\n",
       "       'PURPOSE PAC', 'PATAKI FOR PRESIDENT INC',\n",
       "       'PETE AGUILAR FOR CONGRESS', 'WOLF PAC',\n",
       "       'BEND THE ARC JEWISH ACTION INC. PAC',\n",
       "       'MONICA VERNON FOR CONGRESS', 'ESPAILLAT FOR CONGRESS 2016',\n",
       "       'AL FRANKEN FOR SENATE ', 'FRIENDS OF CHRIS MURPHY',\n",
       "       'BOB CASEY FOR SENATE INC',\n",
       "       'SOCIETY OF THORACIC SURGEONS POLITICAL ACTION COMMITTEE', 'DCCC',\n",
       "       'MISSOURIANS FOR KANDER', 'EVAN BAYH COMMITTEE',\n",
       "       'FASO FOR CONGRESS', 'LESSIG2016.US', 'NADLER FOR CONGRESS',\n",
       "       'KIRK FOR SENATE', 'CROWLEY FOR CONGRESS',\n",
       "       'ROYCE CAMPAIGN COMMITTEE',\n",
       "       'AMERICAN COLLEGE OF RADIOLOGY ASSOCIATION PAC',\n",
       "       'STABENOW FOR US SENATE', 'FRIENDS OF BERNIE SANDERS',\n",
       "       'GILLIBRAND FOR SENATE', 'NANCY PELOSI FOR CONGRESS',\n",
       "       '21ST CENTURY DEMOCRATS',\n",
       "       'NEW YORK STATE COMMITTEE OF THE WORKING FAMILIES PARTY',\n",
       "       'MIKE HONDA FOR CONGRESS', 'MALONEY FOR CONGRESS', 'JSTREETPAC',\n",
       "       'GRAHAM FOR CONGRESS', 'LOIS FRANKEL FOR CONGRESS',\n",
       "       'SCHNEIDER FOR CONGRESS', 'TIM CANOVA FOR CONGRESS',\n",
       "       'RON JOHNSON FOR SENATE INC', 'HIMES FOR CONGRESS',\n",
       "       'THE AMERICAN CONGRESS OF OB-GYNS PAC (OB-GYN PAC)',\n",
       "       'SENATE MAJORITY PAC',\n",
       "       'WORKING FAMILIES PARTY NATIONAL POLITICAL ACTION COMMITTEE',\n",
       "       'PATTY JUDGE FOR IOWA', 'LEAHY FOR U.S. SENATOR COMMITTEE',\n",
       "       'FRIENDS OF PAT TOOMEY', 'DONNA EDWARDS FOR SENATE',\n",
       "       'BLUMENTHAL FOR CONNECTICUT', 'BERNIE 2016', 'ENGEL FOR CONGRESS',\n",
       "       'ELISE FOR CONGRESS', 'KATHLEEN MATTHEWS FOR CONGRESS',\n",
       "       'COMMITTEE TO ELECT ALAN GRAYSON', 'DEMOCRATS WIN SEATS (DWS PAC)',\n",
       "       'CLEMENTS FOR CONGRESS', 'MOWRER FOR IOWA',\n",
       "       'TRI-STATE MAXED-OUT WOMEN', 'VA SENATE VICTORY FUND',\n",
       "       'LEAGUE OF CONSERVATION VOTERS ACTION FUND',\n",
       "       'NITA LOWEY FOR CONGRESS',\n",
       "       'AMERICAN SOCIETY OF ANESTHESIOLOGISTS POLITICAL ACTION COMMITTEE',\n",
       "       'DEMOCRACY FOR AMERICA', 'FRIENDS OF BRADY WALKINSHAW',\n",
       "       'KIRK VICTORY 2016', 'AMERICAN ACADEMY OF NEUROLOGY BRAINPAC',\n",
       "       'ANDY HARRIS FOR CONGRESS', 'MISSOURI DEMOCRATIC STATE COMMITTEE',\n",
       "       'COMMITTEE TO RE-ELECT NYDIA M. VELAZQUEZ TO CONGRESS',\n",
       "       'FRIENDS OF MARK WARNER', 'NEW YORK STATE DEMOCRATIC COMMITTEE',\n",
       "       'DEMOCRATIC ADVANCEMENT PAC',\n",
       "       'DEBBIE WASSERMAN SCHULTZ FOR CONGRESS', 'YARMUTH FOR CONGRESS',\n",
       "       'DEMOCRATIC PARTY OF VIRGINIA', 'COLORADO DEMOCRATIC PARTY',\n",
       "       'AMERICAN ASSOCIATION OF CLINICAL UROLOGISTS PAC (UROPAC)',\n",
       "       'COUNCIL FOR A LIVABLE WORLD CANDIDATE FUND',\n",
       "       'WILL YANDIK FOR CONGRESS', 'END CITIZENS UNITED',\n",
       "       'SUZAN JOHNSON COOK FOR CONGRESS', 'NEVADA STATE DEMOCRATIC PARTY',\n",
       "       'SEAN PATRICK MALONEY FOR CONGRESS',\n",
       "       'NORTH CAROLINA DEMOCRATIC PARTY - FEDERAL',\n",
       "       'KUSTER FOR CONGRESS, INC',\n",
       "       'PHYSICIANS MUTUAL INSURANCE COMPANY PAC',\n",
       "       'FRIENDS OF CLYDE WILLIAMS', 'TENNESSEE DEMOCRATIC PARTY',\n",
       "       'AMERICAN ASSOCIATION OF NURSE ANESTHETISTS SEPARATE SEGREGATED FUND (CRNA-PAC)',\n",
       "       'TRUMP MAKE AMERICA GREAT AGAIN COMMITTEE',\n",
       "       'AMERICAN ASSOCIATION OF NEUROLOGICAL SURGEONS POLITICAL ACTION COMMITTEE (NEUROSURGERYPAC)',\n",
       "       'TEXAS DEMOCRATIC PARTY', 'KAPLAN FOR CONGRESS',\n",
       "       'NEW HAMPSHIRE DEMOCRATIC PARTY', 'DEMOCRATIC PARTY OF OREGON',\n",
       "       'OKLAHOMA DEMOCRATIC PARTY', 'FLORES FOR CONGRESS',\n",
       "       'FRIENDS OF PATRICK MURPHY', 'SHELBY FOR U S SENATE',\n",
       "       'TAMMY BALDWIN FOR SENATE', 'GEORGIA FEDERAL ELECTIONS COMMITTEE',\n",
       "       'NRCC', 'MASSACHUSETTS DEMOCRATIC STATE COMMITTEE',\n",
       "       'UTAH STATE DEMOCRATIC COMMITTEE',\n",
       "       'INDIANA DEMOCRATIC CONGRESSIONAL VICTORY COMMITTEE',\n",
       "       'WY DEMOCRATIC STATE CENTRAL COMMITTEE',\n",
       "       'MAGGIE HASSAN VICTORY FUND', 'WOMENCOUNT PAC',\n",
       "       'TIM MURPHY FOR CONGRESS',\n",
       "       'UAW - V - CAP (UAW VOLUNTARY COMMUNITY ACTION PROGRAM)',\n",
       "       'SEAN BARNEY FOR CONGRESS',\n",
       "       'NATIONAL COMMITTEE FOR AN EFFECTIVE CONGRESS',\n",
       "       'SHAHEEN FOR SENATE', 'CORY BOOKER FOR SENATE',\n",
       "       'DEMOCRATIC EXECUTIVE COMMITTEE OF FLORIDA',\n",
       "       'PINGREE FOR CONGRESS', 'DEMOCRATIC PARTY OF SOUTH CAROLINA',\n",
       "       'NY REPUBLICAN FEDERAL CAMPAIGN COMMITTEE',\n",
       "       'AMERICANS FOR RESPONSIBLE SOLUTIONS-PAC',\n",
       "       'MONTANA DEMOCRATIC PARTY', 'IDAHO STATE DEMOCRATIC PARTY',\n",
       "       'KENTUCKY STATE DEMOCRATIC CENTRAL EXECUTIVE COMMITTEE',\n",
       "       'AMERICAN PHYSICAL THERAPY ASSOCIATION PHYSICAL THERAPY POLITICAL ACTION COMMITTEE (PT-PAC)',\n",
       "       'DEMOCRATIC PARTY OF WISCONSIN', 'OHIO DEMOCRATIC PARTY',\n",
       "       'DEMOCRATIC PARTY OF ARKANSAS', 'SENATE CONSERVATIVES FUND',\n",
       "       'MINNESOTA DEMOCRATIC-FARMER-LABOR PARTY', 'HILLARY VICTORY FUND',\n",
       "       'AMERICAN COLLEGE OF SURGEONS PROFESSIONAL ASSOCIATION PAC',\n",
       "       'LINDY LI FOR CONGRESS', 'DGA ACTION', 'RIGHT TO RISE PAC, INC.',\n",
       "       'WELLS FOR SECURITY', 'NRSC', 'WHITEHOUSE FOR SENATE',\n",
       "       'MICHIGAN DEMOCRATIC STATE CENTRAL COMMITEE',\n",
       "       'BARRAGAN FOR CONGRESS', 'MASSACHUSETTS REPUBLICAN PARTY',\n",
       "       'MIDWEST VALUES PAC', 'FRIENDS OF JAY MCGOVERN',\n",
       "       'PLANNED PARENTHOOD VOTES', 'MISSISSIPPI DEMOCRATIC PARTY PAC',\n",
       "       'CHRIS CHRISTIE FOR PRESIDENT INC', 'KIRK BANGSTAD FOR CONGRESS',\n",
       "       'FRIENDS OF CHRISTINA M. HARTMAN', 'DERRICK FOR CONGRESS',\n",
       "       'JON KAIMAN FOR CONGRESS', 'APPLEGATE FOR CONGRESS',\n",
       "       'LEADERSHIP, OPPORTUNITY, INNOVATION SERVICE PAC - LOIS PAC',\n",
       "       'KASICH FOR AMERICA INC',\n",
       "       'RHODE ISLAND DEMOCRATIC STATE COMMITTEE',\n",
       "       'NEW JERSEY DEMOCRATIC STATE COMMITTEE', 'GARY JOHNSON 2016',\n",
       "       'CITIZENS FOR MICHAEL WAGER', 'RUSS VICTORY FUND',\n",
       "       'DEMOCRATIC HOPE FUND', 'FOSTER CAMPBELL FOR THE US SENATE',\n",
       "       'DEMOCRATIC STATE CENTRAL COMMITTEE OF LA',\n",
       "       'SITTENFELD FOR SENATE', 'SANTARSIERO FOR CONGRESS',\n",
       "       'WILL JAWANDO FOR CONGRESS', 'YUNGMAN LEE FOR CONGRESS',\n",
       "       'SAKIMA FOR CONGRESS', 'WRIGHT 2016', 'JAMIE RASKIN FOR CONGRESS',\n",
       "       'RUSS FOR WISCONSIN', 'DENISE JUNEAU FOR CONGRESS',\n",
       "       'FRIENDS OF DON BEYER', 'BARBARA LEE FOR CONGRESS',\n",
       "       'FRIENDS OF JOHN SARBANES', 'GRETCHEN DRISKELL FOR CONGRESS',\n",
       "       'PENNSYLVANIA DEMOCRATIC PARTY', 'WILLIAMS FOR CONGRESS',\n",
       "       'STRICKLAND FOR SENATE', 'JEFFRIES FOR CONGRESS',\n",
       "       \"WE'VE GOT YOUR BACKPAC\", 'HUMAN RIGHTS CAMPAIGN EQUALITY VOTES',\n",
       "       'CHRISTENSEN FOR CONGRESS', 'ANNA THRONE-HOLST VICTORY FUND',\n",
       "       'MURPHY VICTORY FUND', 'KIRKPATRICK FOR SENATE',\n",
       "       'ROSS VICTORY FUND', 'FOSTER/PLUMB VICTORY FUND',\n",
       "       'KIM MYERS FOR CONGRESS', 'SUOZZI FOR CONGRESS',\n",
       "       'ESPAILLAT FOR CONGRESS', 'L PAC',\n",
       "       \"AMERICAN SOCIETY FOR RADIATION ONCOLOGY PAC (''ASTRO-PAC'')\",\n",
       "       'PEOPLE FOR DEREK KILMER', 'AMI BERA FOR CONGRESS',\n",
       "       'AMERICAN PSYCHIATRIC ASSOCIATION POLITICAL ACTION COMMITTEE',\n",
       "       'FRIENDS OF JOHN MCCAIN INC', 'VAL DEMINGS FOR CONGRESS',\n",
       "       'CICILLINE COMMITTEE', 'BRYAN CAFORIO FOR CONGRESS',\n",
       "       'KANDER VICTORY FUND',\n",
       "       'AMERICAN COLLEGE OF NURSE-MIDWIVES MIDWIVES-PAC',\n",
       "       'GREEN MOUNTAIN PAC', 'CRUZ FOR PRESIDENT'], dtype=object)"
      ]
     },
     "execution_count": 85,
     "metadata": {},
     "output_type": "execute_result"
    }
   ],
   "source": [
    "df_selections[\"committee_name\"].unique()"
   ]
  },
  {
   "cell_type": "code",
   "execution_count": 91,
   "metadata": {},
   "outputs": [],
   "source": [
    "import datetime\n",
    "three_weeks = datetime.datetime(2016, 10, 18)\n",
    "\n",
    "df_before = df_selections[df_selections[\"contribution_receipt_date\"] < three_weeks]\n",
    "\n",
    "df_after = df_selections[df_selections[\"contribution_receipt_date\"] >= three_weeks]"
   ]
  },
  {
   "cell_type": "code",
   "execution_count": 92,
   "metadata": {},
   "outputs": [
    {
     "name": "stdout",
     "output_type": "stream",
     "text": [
      "Total:  2141021.61\n",
      "Before:  1874716.8900000001\n",
      "After:  266304.72\n"
     ]
    }
   ],
   "source": [
    "print(\"Total: \", df_selections[\"contribution_receipt_amount\"].sum())\n",
    "print(\"Before: \", df_before[\"contribution_receipt_amount\"].sum())\n",
    "print(\"After: \", df_after[\"contribution_receipt_amount\"].sum())"
   ]
  },
  {
   "cell_type": "markdown",
   "metadata": {},
   "source": [
    "## Create dataframes with contributions to each campaign"
   ]
  },
  {
   "cell_type": "code",
   "execution_count": 93,
   "metadata": {
    "scrolled": true
   },
   "outputs": [
    {
     "data": {
      "text/html": [
       "<div>\n",
       "<style scoped>\n",
       "    .dataframe tbody tr th:only-of-type {\n",
       "        vertical-align: middle;\n",
       "    }\n",
       "\n",
       "    .dataframe tbody tr th {\n",
       "        vertical-align: top;\n",
       "    }\n",
       "\n",
       "    .dataframe thead th {\n",
       "        text-align: right;\n",
       "    }\n",
       "</style>\n",
       "<table border=\"1\" class=\"dataframe\">\n",
       "  <thead>\n",
       "    <tr style=\"text-align: right;\">\n",
       "      <th></th>\n",
       "      <th>index</th>\n",
       "      <th>committee_name</th>\n",
       "      <th>contribution_receipt_date</th>\n",
       "      <th>contribution_receipt_amount</th>\n",
       "      <th>contributor_employer</th>\n",
       "      <th>contributor_occupation</th>\n",
       "      <th>contributor_first_name</th>\n",
       "      <th>contributor_middle_name</th>\n",
       "      <th>contributor_last_name</th>\n",
       "    </tr>\n",
       "  </thead>\n",
       "  <tbody>\n",
       "    <tr>\n",
       "      <th>0</th>\n",
       "      <td>840</td>\n",
       "      <td>DONALD J. TRUMP FOR PRESIDENT, INC.</td>\n",
       "      <td>2016-06-28</td>\n",
       "      <td>40.0</td>\n",
       "      <td>COLUMBIA UNIVERSITY</td>\n",
       "      <td>FINANCIAL ANALYST</td>\n",
       "      <td>BRUCE</td>\n",
       "      <td>NaN</td>\n",
       "      <td>MACDONALD</td>\n",
       "    </tr>\n",
       "    <tr>\n",
       "      <th>1</th>\n",
       "      <td>923</td>\n",
       "      <td>DONALD J. TRUMP FOR PRESIDENT, INC.</td>\n",
       "      <td>2016-06-03</td>\n",
       "      <td>80.0</td>\n",
       "      <td>COLUMBIA UNIVERSITY</td>\n",
       "      <td>CHEMIST</td>\n",
       "      <td>MILAN</td>\n",
       "      <td>NaN</td>\n",
       "      <td>STOJANOVIC</td>\n",
       "    </tr>\n",
       "    <tr>\n",
       "      <th>2</th>\n",
       "      <td>924</td>\n",
       "      <td>DONALD J. TRUMP FOR PRESIDENT, INC.</td>\n",
       "      <td>2016-08-17</td>\n",
       "      <td>250.0</td>\n",
       "      <td>COLUMBIA UNIVERSITY</td>\n",
       "      <td>PHYSICIAN</td>\n",
       "      <td>RAGY</td>\n",
       "      <td>NaN</td>\n",
       "      <td>GIRGIS</td>\n",
       "    </tr>\n",
       "    <tr>\n",
       "      <th>3</th>\n",
       "      <td>942</td>\n",
       "      <td>DONALD J. TRUMP FOR PRESIDENT, INC.</td>\n",
       "      <td>2016-08-06</td>\n",
       "      <td>2.4</td>\n",
       "      <td>COLUMBIA UNIVERSITY</td>\n",
       "      <td>STUDENT</td>\n",
       "      <td>JAMES</td>\n",
       "      <td>NaN</td>\n",
       "      <td>MCCONNELL</td>\n",
       "    </tr>\n",
       "    <tr>\n",
       "      <th>4</th>\n",
       "      <td>977</td>\n",
       "      <td>DONALD J. TRUMP FOR PRESIDENT, INC.</td>\n",
       "      <td>2016-08-11</td>\n",
       "      <td>28.0</td>\n",
       "      <td>COLUMBIA UNIVERSITY</td>\n",
       "      <td>PROFESSOR</td>\n",
       "      <td>JOSEPH</td>\n",
       "      <td>NaN</td>\n",
       "      <td>TERWILLIGER</td>\n",
       "    </tr>\n",
       "    <tr>\n",
       "      <th>5</th>\n",
       "      <td>7696</td>\n",
       "      <td>DONALD J. TRUMP FOR PRESIDENT, INC.</td>\n",
       "      <td>2016-10-23</td>\n",
       "      <td>80.0</td>\n",
       "      <td>COLUMBIA UNIVERSITY</td>\n",
       "      <td>ASSOCIATE PROFESSOR</td>\n",
       "      <td>ANDREI</td>\n",
       "      <td>NaN</td>\n",
       "      <td>TKATCHENKO</td>\n",
       "    </tr>\n",
       "    <tr>\n",
       "      <th>6</th>\n",
       "      <td>9620</td>\n",
       "      <td>DONALD J. TRUMP FOR PRESIDENT, INC.</td>\n",
       "      <td>2016-03-09</td>\n",
       "      <td>150.8</td>\n",
       "      <td>COLUMBIA UNIVERSITY</td>\n",
       "      <td>PROFESSOR</td>\n",
       "      <td>JOSEPH</td>\n",
       "      <td>NaN</td>\n",
       "      <td>TERWILLIGER</td>\n",
       "    </tr>\n",
       "    <tr>\n",
       "      <th>7</th>\n",
       "      <td>26478</td>\n",
       "      <td>DONALD J. TRUMP FOR PRESIDENT, INC.</td>\n",
       "      <td>2016-08-06</td>\n",
       "      <td>2.4</td>\n",
       "      <td>COLUMBIA UNIVERSITY</td>\n",
       "      <td>STUDENT</td>\n",
       "      <td>HOUSTON</td>\n",
       "      <td>NaN</td>\n",
       "      <td>BROWN</td>\n",
       "    </tr>\n",
       "    <tr>\n",
       "      <th>8</th>\n",
       "      <td>27026</td>\n",
       "      <td>DONALD J. TRUMP FOR PRESIDENT, INC.</td>\n",
       "      <td>2016-12-14</td>\n",
       "      <td>0.8</td>\n",
       "      <td>COLUMBIA UNIVERSITY</td>\n",
       "      <td>STUDENT</td>\n",
       "      <td>ELISEO</td>\n",
       "      <td>NaN</td>\n",
       "      <td>SANTOS</td>\n",
       "    </tr>\n",
       "    <tr>\n",
       "      <th>9</th>\n",
       "      <td>27027</td>\n",
       "      <td>DONALD J. TRUMP FOR PRESIDENT, INC.</td>\n",
       "      <td>2016-12-08</td>\n",
       "      <td>0.8</td>\n",
       "      <td>COLUMBIA UNIVERSITY</td>\n",
       "      <td>CONSULTANT ARTS &amp; CULTURE</td>\n",
       "      <td>ISKRITSA</td>\n",
       "      <td>NaN</td>\n",
       "      <td>OGNIANOVA</td>\n",
       "    </tr>\n",
       "    <tr>\n",
       "      <th>10</th>\n",
       "      <td>27028</td>\n",
       "      <td>DONALD J. TRUMP FOR PRESIDENT, INC.</td>\n",
       "      <td>2016-12-14</td>\n",
       "      <td>40.0</td>\n",
       "      <td>COLUMBIA UNIVERSITY</td>\n",
       "      <td>ADMIN</td>\n",
       "      <td>CARL</td>\n",
       "      <td>P.</td>\n",
       "      <td>SPARANO</td>\n",
       "    </tr>\n",
       "    <tr>\n",
       "      <th>11</th>\n",
       "      <td>27029</td>\n",
       "      <td>DONALD J. TRUMP FOR PRESIDENT, INC.</td>\n",
       "      <td>2016-12-14</td>\n",
       "      <td>0.8</td>\n",
       "      <td>COLUMBIA UNIVERSITY</td>\n",
       "      <td>STUDENT</td>\n",
       "      <td>ELISEO</td>\n",
       "      <td>NaN</td>\n",
       "      <td>SANTOS</td>\n",
       "    </tr>\n",
       "  </tbody>\n",
       "</table>\n",
       "</div>"
      ],
      "text/plain": [
       "    index                       committee_name contribution_receipt_date  \\\n",
       "0     840  DONALD J. TRUMP FOR PRESIDENT, INC.                2016-06-28   \n",
       "1     923  DONALD J. TRUMP FOR PRESIDENT, INC.                2016-06-03   \n",
       "2     924  DONALD J. TRUMP FOR PRESIDENT, INC.                2016-08-17   \n",
       "3     942  DONALD J. TRUMP FOR PRESIDENT, INC.                2016-08-06   \n",
       "4     977  DONALD J. TRUMP FOR PRESIDENT, INC.                2016-08-11   \n",
       "5    7696  DONALD J. TRUMP FOR PRESIDENT, INC.                2016-10-23   \n",
       "6    9620  DONALD J. TRUMP FOR PRESIDENT, INC.                2016-03-09   \n",
       "7   26478  DONALD J. TRUMP FOR PRESIDENT, INC.                2016-08-06   \n",
       "8   27026  DONALD J. TRUMP FOR PRESIDENT, INC.                2016-12-14   \n",
       "9   27027  DONALD J. TRUMP FOR PRESIDENT, INC.                2016-12-08   \n",
       "10  27028  DONALD J. TRUMP FOR PRESIDENT, INC.                2016-12-14   \n",
       "11  27029  DONALD J. TRUMP FOR PRESIDENT, INC.                2016-12-14   \n",
       "\n",
       "    contribution_receipt_amount contributor_employer  \\\n",
       "0                          40.0  COLUMBIA UNIVERSITY   \n",
       "1                          80.0  COLUMBIA UNIVERSITY   \n",
       "2                         250.0  COLUMBIA UNIVERSITY   \n",
       "3                           2.4  COLUMBIA UNIVERSITY   \n",
       "4                          28.0  COLUMBIA UNIVERSITY   \n",
       "5                          80.0  COLUMBIA UNIVERSITY   \n",
       "6                         150.8  COLUMBIA UNIVERSITY   \n",
       "7                           2.4  COLUMBIA UNIVERSITY   \n",
       "8                           0.8  COLUMBIA UNIVERSITY   \n",
       "9                           0.8  COLUMBIA UNIVERSITY   \n",
       "10                         40.0  COLUMBIA UNIVERSITY   \n",
       "11                          0.8  COLUMBIA UNIVERSITY   \n",
       "\n",
       "       contributor_occupation contributor_first_name contributor_middle_name  \\\n",
       "0           FINANCIAL ANALYST                  BRUCE                     NaN   \n",
       "1                     CHEMIST                  MILAN                     NaN   \n",
       "2                   PHYSICIAN                   RAGY                     NaN   \n",
       "3                     STUDENT                  JAMES                     NaN   \n",
       "4                   PROFESSOR                 JOSEPH                     NaN   \n",
       "5         ASSOCIATE PROFESSOR                 ANDREI                     NaN   \n",
       "6                   PROFESSOR                 JOSEPH                     NaN   \n",
       "7                     STUDENT                HOUSTON                     NaN   \n",
       "8                     STUDENT                 ELISEO                     NaN   \n",
       "9   CONSULTANT ARTS & CULTURE               ISKRITSA                     NaN   \n",
       "10                      ADMIN                   CARL                      P.   \n",
       "11                    STUDENT                 ELISEO                     NaN   \n",
       "\n",
       "   contributor_last_name  \n",
       "0              MACDONALD  \n",
       "1             STOJANOVIC  \n",
       "2                 GIRGIS  \n",
       "3              MCCONNELL  \n",
       "4            TERWILLIGER  \n",
       "5             TKATCHENKO  \n",
       "6            TERWILLIGER  \n",
       "7                  BROWN  \n",
       "8                 SANTOS  \n",
       "9              OGNIANOVA  \n",
       "10               SPARANO  \n",
       "11                SANTOS  "
      ]
     },
     "execution_count": 93,
     "metadata": {},
     "output_type": "execute_result"
    }
   ],
   "source": [
    "df_HILLARY = df_selections[df_selections[\"committee_name\"].str.contains(\"HILLARY FOR AMERICA\")]\n",
    "\n",
    "df_HILLARY.reset_index()\n",
    "\n",
    "df_trump = df_selections[df_selections[\"committee_name\"].str.contains(\"DONALD J. TRUMP FOR PRESIDENT, INC.\")]\n",
    "\n",
    "df_trump.reset_index()"
   ]
  },
  {
   "cell_type": "code",
   "execution_count": 94,
   "metadata": {},
   "outputs": [
    {
     "name": "stdout",
     "output_type": "stream",
     "text": [
      "(12, 8)\n",
      "(3288, 8)\n"
     ]
    }
   ],
   "source": [
    "print(df_trump.shape)\n",
    "print(df_HILLARY.shape)"
   ]
  },
  {
   "cell_type": "markdown",
   "metadata": {},
   "source": [
    "# Testing my hypothesis that CU Republicans preferred other candidates over Trump"
   ]
  },
  {
   "cell_type": "code",
   "execution_count": 95,
   "metadata": {},
   "outputs": [
    {
     "name": "stdout",
     "output_type": "stream",
     "text": [
      "Kasich:  1000.0\n",
      "Cruz:  1000.0\n",
      "Rubio:  4200.0\n",
      "Jeb:  5900.0\n",
      "Christie:  2700.0\n",
      "Pataki:  500.0\n",
      "All other Republican candidates 15300.0\n",
      "RNC:  2262.0\n"
     ]
    }
   ],
   "source": [
    "df_kasich = df_selections[df_selections[\"committee_name\"].str.contains(\"KASICH FOR AMERICA INC\")]\n",
    "print(\"Kasich: \", df_kasich[\"contribution_receipt_amount\"].sum())\n",
    "\n",
    "df_cruz = df_selections[df_selections[\"committee_name\"].str.contains(\"CRUZ FOR PRESIDENT\")]\n",
    "print(\"Cruz: \", df_cruz[\"contribution_receipt_amount\"].sum())\n",
    "\n",
    "df_rubio = df_selections[df_selections[\"committee_name\"].str.contains(\"MARCO RUBIO FOR PRESIDENT\")]\n",
    "print(\"Rubio: \", df_rubio[\"contribution_receipt_amount\"].sum())\n",
    "\n",
    "df_jeb = df_selections[df_selections[\"committee_name\"].str.contains(\"JEB 2016, INC.\")]\n",
    "print(\"Jeb: \", df_jeb[\"contribution_receipt_amount\"].sum())\n",
    "\n",
    "df_christie = df_selections[df_selections[\"committee_name\"].str.contains(\"CHRIS CHRISTIE FOR PRESIDENT INC\")]\n",
    "print(\"Christie: \", df_christie[\"contribution_receipt_amount\"].sum())\n",
    "\n",
    "df_pataki = df_selections[df_selections[\"committee_name\"].str.contains(\"PATAKI FOR PRESIDENT INC\")]\n",
    "print(\"Pataki: \", df_pataki[\"contribution_receipt_amount\"].sum())\n",
    "\n",
    "total_repub = 0;\n",
    "total_repub = df_kasich[\"contribution_receipt_amount\"].sum() + df_cruz[\"contribution_receipt_amount\"].sum()\n",
    "total_repub += df_rubio[\"contribution_receipt_amount\"].sum() + df_jeb[\"contribution_receipt_amount\"].sum()\n",
    "total_repub += df_christie[\"contribution_receipt_amount\"].sum() + df_pataki[\"contribution_receipt_amount\"].sum()\n",
    "print(\"All other Republican candidates\", total_repub)\n",
    "\n",
    "df_RNC = df_selections[df_selections[\"committee_name\"].str.contains(\"REPUBLICAN NATIONAL COMMITTEE\")]\n",
    "print(\"RNC: \", df_RNC[\"contribution_receipt_amount\"].sum())"
   ]
  },
  {
   "cell_type": "code",
   "execution_count": 96,
   "metadata": {},
   "outputs": [
    {
     "data": {
      "text/html": [
       "<div>\n",
       "<style scoped>\n",
       "    .dataframe tbody tr th:only-of-type {\n",
       "        vertical-align: middle;\n",
       "    }\n",
       "\n",
       "    .dataframe tbody tr th {\n",
       "        vertical-align: top;\n",
       "    }\n",
       "\n",
       "    .dataframe thead th {\n",
       "        text-align: right;\n",
       "    }\n",
       "</style>\n",
       "<table border=\"1\" class=\"dataframe\">\n",
       "  <thead>\n",
       "    <tr style=\"text-align: right;\">\n",
       "      <th></th>\n",
       "      <th>contribution_receipt_amount</th>\n",
       "    </tr>\n",
       "    <tr>\n",
       "      <th>committee_name</th>\n",
       "      <th></th>\n",
       "    </tr>\n",
       "  </thead>\n",
       "  <tbody>\n",
       "    <tr>\n",
       "      <th>JEB 2016, INC.</th>\n",
       "      <td>5900.0</td>\n",
       "    </tr>\n",
       "    <tr>\n",
       "      <th>MARCO RUBIO FOR PRESIDENT</th>\n",
       "      <td>4200.0</td>\n",
       "    </tr>\n",
       "    <tr>\n",
       "      <th>CHRIS CHRISTIE FOR PRESIDENT INC</th>\n",
       "      <td>2700.0</td>\n",
       "    </tr>\n",
       "    <tr>\n",
       "      <th>CRUZ FOR PRESIDENT</th>\n",
       "      <td>1000.0</td>\n",
       "    </tr>\n",
       "    <tr>\n",
       "      <th>KASICH FOR AMERICA INC</th>\n",
       "      <td>1000.0</td>\n",
       "    </tr>\n",
       "    <tr>\n",
       "      <th>DONALD J. TRUMP FOR PRESIDENT, INC.</th>\n",
       "      <td>676.0</td>\n",
       "    </tr>\n",
       "    <tr>\n",
       "      <th>PATAKI FOR PRESIDENT INC</th>\n",
       "      <td>500.0</td>\n",
       "    </tr>\n",
       "  </tbody>\n",
       "</table>\n",
       "</div>"
      ],
      "text/plain": [
       "                                     contribution_receipt_amount\n",
       "committee_name                                                  \n",
       "JEB 2016, INC.                                            5900.0\n",
       "MARCO RUBIO FOR PRESIDENT                                 4200.0\n",
       "CHRIS CHRISTIE FOR PRESIDENT INC                          2700.0\n",
       "CRUZ FOR PRESIDENT                                        1000.0\n",
       "KASICH FOR AMERICA INC                                    1000.0\n",
       "DONALD J. TRUMP FOR PRESIDENT, INC.                        676.0\n",
       "PATAKI FOR PRESIDENT INC                                   500.0"
      ]
     },
     "execution_count": 96,
     "metadata": {},
     "output_type": "execute_result"
    }
   ],
   "source": [
    "frames = [df_kasich, df_cruz, df_rubio, df_jeb, df_christie, df_pataki, df_trump]\n",
    "df_repubs = pd.concat(frames)\n",
    "df_repubs = df_repubs.groupby([\"committee_name\"]).sum()\n",
    "df_repubs = df_repubs.sort_values(by=\"contribution_receipt_amount\", ascending=False)\n",
    "df_repubs"
   ]
  },
  {
   "cell_type": "code",
   "execution_count": 97,
   "metadata": {},
   "outputs": [
    {
     "data": {
      "image/png": "[encoded data removed]",
      "text/plain": [
       "<Figure size 720x432 with 1 Axes>"
      ]
     },
     "metadata": {
      "needs_background": "light"
     },
     "output_type": "display_data"
    }
   ],
   "source": [
    "ax0 = df_repubs.plot(kind=\"barh\",\n",
    "                    figsize=(10,6))\n",
    "ax0.set_xlabel(\"Amount raised in 2016 campaign cycle\")\n",
    "ax0.invert_yaxis()\n",
    "plt = ax0\n",
    "# plt.savefig(\"repubs.svg\")\n",
    "\n",
    "# plot = dtf.plot()\n",
    "fig = ax0.get_figure()\n",
    "fig.savefig(\"repub.svg\")"
   ]
  },
  {
   "cell_type": "markdown",
   "metadata": {},
   "source": [
    "# Plots for donations per campaign and total donation $"
   ]
  },
  {
   "cell_type": "code",
   "execution_count": 98,
   "metadata": {
    "scrolled": true
   },
   "outputs": [
    {
     "name": "stdout",
     "output_type": "stream",
     "text": [
      "(12, 8)\n",
      "(3288, 8)\n"
     ]
    }
   ],
   "source": [
    "print(df_trump.shape)\n",
    "print(df_HILLARY.shape)"
   ]
  },
  {
   "cell_type": "code",
   "execution_count": 99,
   "metadata": {},
   "outputs": [],
   "source": [
    "import pandas as pd \n",
    "import matplotlib.pyplot as plt \n",
    "from pywaffle import Waffle "
   ]
  },
  {
   "cell_type": "code",
   "execution_count": 100,
   "metadata": {},
   "outputs": [
    {
     "ename": "NameError",
     "evalue": "name 'data' is not defined",
     "output_type": "error",
     "traceback": [
      "\u001b[0;31m---------------------------------------------------------------------------\u001b[0m",
      "\u001b[0;31mNameError\u001b[0m                                 Traceback (most recent call last)",
      "\u001b[0;32m<ipython-input-100-5b6259e05694>\u001b[0m in \u001b[0;36m<module>\u001b[0;34m\u001b[0m\n\u001b[1;32m      2\u001b[0m         'donations': [1177, 108]}\n\u001b[1;32m      3\u001b[0m \u001b[0;34m\u001b[0m\u001b[0m\n\u001b[0;32m----> 4\u001b[0;31m \u001b[0mdf3\u001b[0m \u001b[0;34m=\u001b[0m \u001b[0mpd\u001b[0m\u001b[0;34m.\u001b[0m\u001b[0mDataFrame\u001b[0m\u001b[0;34m(\u001b[0m\u001b[0mdata\u001b[0m\u001b[0;34m)\u001b[0m\u001b[0;34m\u001b[0m\u001b[0;34m\u001b[0m\u001b[0m\n\u001b[0m\u001b[1;32m      5\u001b[0m \u001b[0;34m\u001b[0m\u001b[0m\n\u001b[1;32m      6\u001b[0m fig = plt.figure(FigureClass=Waffle,\n",
      "\u001b[0;31mNameError\u001b[0m: name 'data' is not defined"
     ]
    }
   ],
   "source": [
    "data2 = {'campaign': ['Biden', 'Trump'],\n",
    "        'donations': [1177, 108]}\n",
    "\n",
    "df3 = pd.DataFrame(data)\n",
    "\n",
    "fig = plt.figure(FigureClass=Waffle,\n",
    "                 columns=5,\n",
    "                values=[117.7],\n",
    "#                 figsize=(20,6),\n",
    "                vertical=True,\n",
    "                rounding_rule='floor')\n",
    "fig.savefig(\"biden_donations.svg\")\n",
    "fig2 = plt.figure(FigureClass=Waffle, \n",
    "                 columns=5,\n",
    "                 values=[10.8],\n",
    "#                  figsize=(10,6),\n",
    "                 vertical=True,\n",
    "                 rounding_rule='floor')\n",
    "fig2.savefig(\"trump_donations.svg\")"
   ]
  },
  {
   "cell_type": "code",
   "execution_count": null,
   "metadata": {},
   "outputs": [],
   "source": []
  },
  {
   "cell_type": "markdown",
   "metadata": {},
   "source": [
    "# Plots for donations per campaign and total donation $"
   ]
  },
  {
   "cell_type": "code",
   "execution_count": 101,
   "metadata": {
    "scrolled": true
   },
   "outputs": [
    {
     "name": "stdout",
     "output_type": "stream",
     "text": [
      "(12, 8)\n",
      "(3288, 8)\n"
     ]
    }
   ],
   "source": [
    "print(df_trump.shape)\n",
    "print(df_HILLARY.shape)"
   ]
  },
  {
   "cell_type": "code",
   "execution_count": 102,
   "metadata": {},
   "outputs": [],
   "source": [
    "import pandas as pd \n",
    "import matplotlib.pyplot as plt \n",
    "from pywaffle import Waffle "
   ]
  },
  {
   "cell_type": "code",
   "execution_count": 104,
   "metadata": {},
   "outputs": [
    {
     "data": {
      "image/png": "[encoded data removed]",
      "text/plain": [
       "<Waffle size 1440x720 with 1 Axes>"
      ]
     },
     "metadata": {
      "needs_background": "light"
     },
     "output_type": "display_data"
    },
    {
     "data": {
      "image/png": "[encoded data removed]",
      "text/plain": [
       "<Waffle size 432x288 with 1 Axes>"
      ]
     },
     "metadata": {
      "needs_background": "light"
     },
     "output_type": "display_data"
    }
   ],
   "source": [
    "fig = plt.figure(FigureClass=Waffle,\n",
    "                 columns=10,\n",
    "                values=[328.8],\n",
    "                figsize=(20,10),\n",
    "                vertical=True,\n",
    "                rounding_rule='floor')\n",
    "fig.savefig(\"hillary_donations.svg\")\n",
    "fig2 = plt.figure(FigureClass=Waffle, \n",
    "                 columns=100,\n",
    "                 values=[1.2],\n",
    "#                  figsize=(10,6),\n",
    "                 vertical=True,\n",
    "                 rounding_rule='floor')\n",
    "# # fig2.savefig(\"trump_donations.svg\")"
   ]
  },
  {
   "cell_type": "markdown",
   "metadata": {},
   "source": [
    "## Group contributions by receipt date for each campaign and visualize!"
   ]
  },
  {
   "cell_type": "code",
   "execution_count": 105,
   "metadata": {
    "scrolled": true
   },
   "outputs": [
    {
     "data": {
      "text/html": [
       "<div>\n",
       "<style scoped>\n",
       "    .dataframe tbody tr th:only-of-type {\n",
       "        vertical-align: middle;\n",
       "    }\n",
       "\n",
       "    .dataframe tbody tr th {\n",
       "        vertical-align: top;\n",
       "    }\n",
       "\n",
       "    .dataframe thead th {\n",
       "        text-align: right;\n",
       "    }\n",
       "</style>\n",
       "<table border=\"1\" class=\"dataframe\">\n",
       "  <thead>\n",
       "    <tr style=\"text-align: right;\">\n",
       "      <th></th>\n",
       "      <th>contribution_receipt_date</th>\n",
       "      <th>contribution_receipt_amount</th>\n",
       "    </tr>\n",
       "  </thead>\n",
       "  <tbody>\n",
       "    <tr>\n",
       "      <th>0</th>\n",
       "      <td>2016-03-09</td>\n",
       "      <td>150.8</td>\n",
       "    </tr>\n",
       "    <tr>\n",
       "      <th>1</th>\n",
       "      <td>2016-06-03</td>\n",
       "      <td>80.0</td>\n",
       "    </tr>\n",
       "    <tr>\n",
       "      <th>2</th>\n",
       "      <td>2016-06-28</td>\n",
       "      <td>40.0</td>\n",
       "    </tr>\n",
       "    <tr>\n",
       "      <th>3</th>\n",
       "      <td>2016-08-06</td>\n",
       "      <td>4.8</td>\n",
       "    </tr>\n",
       "    <tr>\n",
       "      <th>4</th>\n",
       "      <td>2016-08-11</td>\n",
       "      <td>28.0</td>\n",
       "    </tr>\n",
       "  </tbody>\n",
       "</table>\n",
       "</div>"
      ],
      "text/plain": [
       "  contribution_receipt_date  contribution_receipt_amount\n",
       "0                2016-03-09                        150.8\n",
       "1                2016-06-03                         80.0\n",
       "2                2016-06-28                         40.0\n",
       "3                2016-08-06                          4.8\n",
       "4                2016-08-11                         28.0"
      ]
     },
     "execution_count": 105,
     "metadata": {},
     "output_type": "execute_result"
    }
   ],
   "source": [
    "df_HILLARY = df_HILLARY.groupby([\"contribution_receipt_date\"], as_index=False).sum()\n",
    "\n",
    "df_trump = df_trump.groupby([\"contribution_receipt_date\"], as_index=False).sum()\n",
    "\n",
    "df_trump.head()"
   ]
  },
  {
   "cell_type": "code",
   "execution_count": 106,
   "metadata": {},
   "outputs": [
    {
     "data": {
      "text/html": [
       "<div>\n",
       "<style scoped>\n",
       "    .dataframe tbody tr th:only-of-type {\n",
       "        vertical-align: middle;\n",
       "    }\n",
       "\n",
       "    .dataframe tbody tr th {\n",
       "        vertical-align: top;\n",
       "    }\n",
       "\n",
       "    .dataframe thead th {\n",
       "        text-align: right;\n",
       "    }\n",
       "</style>\n",
       "<table border=\"1\" class=\"dataframe\">\n",
       "  <thead>\n",
       "    <tr style=\"text-align: right;\">\n",
       "      <th></th>\n",
       "      <th>contribution_receipt_date</th>\n",
       "      <th>contribution_receipt_amount</th>\n",
       "    </tr>\n",
       "  </thead>\n",
       "  <tbody>\n",
       "    <tr>\n",
       "      <th>5</th>\n",
       "      <td>2016-08-17</td>\n",
       "      <td>250.0</td>\n",
       "    </tr>\n",
       "    <tr>\n",
       "      <th>0</th>\n",
       "      <td>2016-03-09</td>\n",
       "      <td>150.8</td>\n",
       "    </tr>\n",
       "    <tr>\n",
       "      <th>1</th>\n",
       "      <td>2016-06-03</td>\n",
       "      <td>80.0</td>\n",
       "    </tr>\n",
       "    <tr>\n",
       "      <th>6</th>\n",
       "      <td>2016-10-23</td>\n",
       "      <td>80.0</td>\n",
       "    </tr>\n",
       "    <tr>\n",
       "      <th>8</th>\n",
       "      <td>2016-12-14</td>\n",
       "      <td>41.6</td>\n",
       "    </tr>\n",
       "    <tr>\n",
       "      <th>2</th>\n",
       "      <td>2016-06-28</td>\n",
       "      <td>40.0</td>\n",
       "    </tr>\n",
       "    <tr>\n",
       "      <th>4</th>\n",
       "      <td>2016-08-11</td>\n",
       "      <td>28.0</td>\n",
       "    </tr>\n",
       "    <tr>\n",
       "      <th>3</th>\n",
       "      <td>2016-08-06</td>\n",
       "      <td>4.8</td>\n",
       "    </tr>\n",
       "    <tr>\n",
       "      <th>7</th>\n",
       "      <td>2016-12-08</td>\n",
       "      <td>0.8</td>\n",
       "    </tr>\n",
       "  </tbody>\n",
       "</table>\n",
       "</div>"
      ],
      "text/plain": [
       "  contribution_receipt_date  contribution_receipt_amount\n",
       "5                2016-08-17                        250.0\n",
       "0                2016-03-09                        150.8\n",
       "1                2016-06-03                         80.0\n",
       "6                2016-10-23                         80.0\n",
       "8                2016-12-14                         41.6\n",
       "2                2016-06-28                         40.0\n",
       "4                2016-08-11                         28.0\n",
       "3                2016-08-06                          4.8\n",
       "7                2016-12-08                          0.8"
      ]
     },
     "execution_count": 106,
     "metadata": {},
     "output_type": "execute_result"
    }
   ],
   "source": [
    "df_max = df_trump.sort_values(by=\"contribution_receipt_amount\", ascending=False)\n",
    "\n",
    "df_max"
   ]
  },
  {
   "cell_type": "code",
   "execution_count": 107,
   "metadata": {},
   "outputs": [
    {
     "data": {
      "text/plain": [
       "501596.79999999993"
      ]
     },
     "execution_count": 107,
     "metadata": {},
     "output_type": "execute_result"
    }
   ],
   "source": [
    "df_HILLARY[\"contribution_receipt_amount\"].sum()"
   ]
  },
  {
   "cell_type": "code",
   "execution_count": 108,
   "metadata": {},
   "outputs": [
    {
     "data": {
      "text/plain": [
       "676.0000000000001"
      ]
     },
     "execution_count": 108,
     "metadata": {},
     "output_type": "execute_result"
    }
   ],
   "source": [
    "df_trump[\"contribution_receipt_amount\"].sum()"
   ]
  },
  {
   "cell_type": "code",
   "execution_count": 110,
   "metadata": {
    "scrolled": false
   },
   "outputs": [
    {
     "data": {
      "text/plain": [
       "Text(0.5, 1.0, 'Contributions to Trump Campaign since Announcement of Clinton Candidacy (4/12/2015) even though nobody donated to Trump for forever')"
      ]
     },
     "execution_count": 110,
     "metadata": {},
     "output_type": "execute_result"
    },
    {
     "data": {
      "image/png": "[encoded data removed]",
      "text/plain": [
       "<Figure size 1008x432 with 1 Axes>"
      ]
     },
     "metadata": {
      "needs_background": "light"
     },
     "output_type": "display_data"
    },
    {
     "data": {
      "image/png": "[encoded data removed]",
      "text/plain": [
       "<Figure size 1008x432 with 1 Axes>"
      ]
     },
     "metadata": {
      "needs_background": "light"
     },
     "output_type": "display_data"
    }
   ],
   "source": [
    "from datetime import datetime, timedelta\n",
    "t = np.arange(datetime(2015,4,12), datetime(2016,11,10), timedelta(days=30)).astype(datetime)\n",
    "# y = [0, 2000, 4000, 6000, 8000, 10000, 12000, 14000]\n",
    "\n",
    "ax1 = df_HILLARY.plot(x=\"contribution_receipt_date\", y=\"contribution_receipt_amount\",\n",
    "             figsize=(14, 6))\n",
    "ax1.set_xticks(t)\n",
    "ax1.set_ylim([0, 14000])\n",
    "ax1.set_title(\"Contributions to Clinton Campaign since Announcement of Candidacy (4/12/2015)\")\n",
    "\n",
    "\n",
    "ax2 = df_trump.plot(x=\"contribution_receipt_date\", y=\"contribution_receipt_amount\",\n",
    "                   figsize=(14,6),\n",
    "                   color=\"red\")\n",
    "ax2.set_xticks(t)\n",
    "ax2.set_ylim([0, 14000])\n",
    "ax2.set_title(\"Contributions to Trump Campaign since Announcement of Clinton Candidacy (4/12/2015) even though nobody donated to Trump for forever\")"
   ]
  },
  {
   "cell_type": "markdown",
   "metadata": {},
   "source": [
    "## Collect and visualize top committes by funds raised over 2015-2016"
   ]
  },
  {
   "cell_type": "code",
   "execution_count": 111,
   "metadata": {},
   "outputs": [
    {
     "data": {
      "text/html": [
       "<div>\n",
       "<style scoped>\n",
       "    .dataframe tbody tr th:only-of-type {\n",
       "        vertical-align: middle;\n",
       "    }\n",
       "\n",
       "    .dataframe tbody tr th {\n",
       "        vertical-align: top;\n",
       "    }\n",
       "\n",
       "    .dataframe thead th {\n",
       "        text-align: right;\n",
       "    }\n",
       "</style>\n",
       "<table border=\"1\" class=\"dataframe\">\n",
       "  <thead>\n",
       "    <tr style=\"text-align: right;\">\n",
       "      <th></th>\n",
       "      <th>index</th>\n",
       "      <th>committee_name</th>\n",
       "      <th>contribution_receipt_amount</th>\n",
       "    </tr>\n",
       "  </thead>\n",
       "  <tbody>\n",
       "    <tr>\n",
       "      <th>0</th>\n",
       "      <td>115</td>\n",
       "      <td>HILLARY FOR AMERICA</td>\n",
       "      <td>501596.80</td>\n",
       "    </tr>\n",
       "    <tr>\n",
       "      <th>1</th>\n",
       "      <td>3</td>\n",
       "      <td>ACTBLUE</td>\n",
       "      <td>333992.25</td>\n",
       "    </tr>\n",
       "    <tr>\n",
       "      <th>2</th>\n",
       "      <td>116</td>\n",
       "      <td>HILLARY VICTORY FUND</td>\n",
       "      <td>254830.90</td>\n",
       "    </tr>\n",
       "    <tr>\n",
       "      <th>3</th>\n",
       "      <td>67</td>\n",
       "      <td>DNC SERVICES CORP./DEM. NAT'L COMMITTEE</td>\n",
       "      <td>238756.63</td>\n",
       "    </tr>\n",
       "    <tr>\n",
       "      <th>4</th>\n",
       "      <td>26</td>\n",
       "      <td>BERNIE 2016</td>\n",
       "      <td>69740.95</td>\n",
       "    </tr>\n",
       "  </tbody>\n",
       "</table>\n",
       "</div>"
      ],
      "text/plain": [
       "   index                           committee_name  contribution_receipt_amount\n",
       "0    115                      HILLARY FOR AMERICA                    501596.80\n",
       "1      3                                  ACTBLUE                    333992.25\n",
       "2    116                     HILLARY VICTORY FUND                    254830.90\n",
       "3     67  DNC SERVICES CORP./DEM. NAT'L COMMITTEE                    238756.63\n",
       "4     26                              BERNIE 2016                     69740.95"
      ]
     },
     "execution_count": 111,
     "metadata": {},
     "output_type": "execute_result"
    }
   ],
   "source": [
    "df_committees = df_selections.groupby([\"committee_name\"], as_index=False).sum()\n",
    "df_committees.sort_values(by=\"contribution_receipt_amount\", ascending=False, inplace=True)\n",
    "df_committees.reset_index(inplace=True)\n",
    "\n",
    "df_committees.head()"
   ]
  },
  {
   "cell_type": "code",
   "execution_count": 117,
   "metadata": {},
   "outputs": [
    {
     "data": {
      "image/png": "[encoded data removed]",
      "text/plain": [
       "<Figure size 720x432 with 1 Axes>"
      ]
     },
     "metadata": {
      "needs_background": "light"
     },
     "output_type": "display_data"
    }
   ],
   "source": [
    "ax3 = df_committees.head(15).plot(kind=\"barh\",\n",
    "                        x = \"committee_name\",\n",
    "                        y = \"contribution_receipt_amount\",\n",
    "                                 figsize=(10,6))\n",
    "ax3.grid(axis='x')\n",
    "ax3.invert_yaxis()\n",
    "plt.savefig(\"hijessica.pdf\")"
   ]
  },
  {
   "cell_type": "code",
   "execution_count": 37,
   "metadata": {},
   "outputs": [
    {
     "name": "stdout",
     "output_type": "stream",
     "text": [
      "Bernie:  69740.95000000001\n"
     ]
    }
   ],
   "source": [
    "df_bernie = df_selections[df_selections[\"committee_name\"].str.contains(\"BERNIE 2016\")]\n",
    "print(\"Bernie: \", df_bernie[\"contribution_receipt_amount\"].sum())"
   ]
  },
  {
   "cell_type": "markdown",
   "metadata": {},
   "source": [
    "## Collect and visualize occupation of individual Columbia donors "
   ]
  },
  {
   "cell_type": "code",
   "execution_count": 38,
   "metadata": {},
   "outputs": [
    {
     "data": {
      "text/plain": [
       "PROFESSOR                   331\n",
       "STUDENT                     291\n",
       "PHYSICIAN                   142\n",
       "GRADUATE STUDENT             74\n",
       "RESEARCHER                   45\n",
       "SCIENTIST                    42\n",
       "ADMINISTRATOR                32\n",
       "TEACHER                      25\n",
       "LIBRARIAN                    21\n",
       "RESEARCH ASSISTANT           21\n",
       "PHD STUDENT                  19\n",
       "ADJUNCT PROFESSOR            18\n",
       "EDUCATOR                     16\n",
       "RESEARCH SCIENTIST           16\n",
       "ADMINISTRATIVE ASSISTANT     14\n",
       "Name: contributor_occupation, dtype: int64"
      ]
     },
     "execution_count": 38,
     "metadata": {},
     "output_type": "execute_result"
    }
   ],
   "source": [
    "df_occ = df_selections.drop_duplicates(subset=[\"contributor_last_name\", \"contributor_middle_name\",\n",
    "                                              \"contributor_middle_name\"])\n",
    "occupations = df_occ[\"contributor_occupation\"].value_counts()\n",
    "\n",
    "occupations.head(15)"
   ]
  },
  {
   "cell_type": "code",
   "execution_count": 39,
   "metadata": {},
   "outputs": [
    {
     "data": {
      "image/png": "[encoded data removed]",
      "text/plain": [
       "<Figure size 720x432 with 1 Axes>"
      ]
     },
     "metadata": {
      "needs_background": "light"
     },
     "output_type": "display_data"
    }
   ],
   "source": [
    "ax5 = occupations.head(15).plot(kind=\"barh\",\n",
    "                               figsize=(10,6))\n",
    "ax5.invert_yaxis()"
   ]
  },
  {
   "cell_type": "markdown",
   "metadata": {},
   "source": [
    "## Bubble plot for individual Columbia donors"
   ]
  },
  {
   "cell_type": "code",
   "execution_count": 40,
   "metadata": {},
   "outputs": [],
   "source": [
    "from pprint import pprint as pp\n",
    "import circlify as circ"
   ]
  },
  {
   "cell_type": "code",
   "execution_count": 41,
   "metadata": {},
   "outputs": [
    {
     "name": "stdout",
     "output_type": "stream",
     "text": [
      "[Circle(x=-0.03889754740413873, y=-0.9132582133543478, r=0.08591379867474613, level=1, ex={'datum': 14}),\n",
      " Circle(x=-0.15234709868767168, y=-0.7764092319758409, r=0.09184571412490661, level=1, ex={'datum': 16}),\n",
      " Circle(x=-0.32771272256719497, y=-0.5955073082588748, r=0.09184571412490661, level=1, ex={'datum': 16}),\n",
      " Circle(x=0.23606266517962052, y=-0.7956376786187894, r=0.09741709092096379, level=1, ex={'datum': 18}),\n",
      " Circle(x=0.35285884131038214, y=-0.6363695397391352, r=0.10008654656694854, level=1, ex={'datum': 19}),\n",
      " Circle(x=0.04128175308831574, y=-0.7397521372496325, r=0.10522248430866482, level=1, ex={'datum': 21}),\n",
      " Circle(x=0.15538300671663025, y=-0.5516193632236397, r=0.11480714265613326, level=1, ex={'datum': 25}),\n",
      " Circle(x=-0.10901191479578784, y=-0.5589499326360552, r=0.1298894545612851, level=1, ex={'datum': 32}),\n",
      " Circle(x=-0.30044594401127533, y=-0.35640422884051465, r=0.148807064375904, level=1, ex={'datum': 42}),\n",
      " Circle(x=0.36437287989138845, y=-0.3825140330276788, r=0.15402994516897783, level=1, ex={'datum': 45}),\n",
      " Circle(x=0.03335945323731632, y=-0.2641136348065987, r=0.1975216768215645, level=1, ex={'datum': 74}),\n",
      " Circle(x=0.030910123305301483, y=0.7257250358504259, r=0.27361699952239327, level=1, ex={'datum': 142}),\n",
      " Circle(x=-0.35197541588075143, y=0.18163353152268286, r=0.39169262854518605, level=1, ex={'datum': 291}),\n",
      " Circle(x=0.4574637904654052, y=0.18163353152268286, r=0.4177465778009705, level=1, ex={'datum': 331})]\n"
     ]
    },
    {
     "data": {
      "image/png": "[encoded data removed]",
      "text/plain": [
       "<Figure size 576x576 with 1 Axes>"
      ]
     },
     "metadata": {
      "needs_background": "light"
     },
     "output_type": "display_data"
    }
   ],
   "source": [
    "circles = circ.circlify([occupations[0], \n",
    "                          occupations[1], \n",
    "                          occupations[2],\n",
    "                          occupations[3],\n",
    "                          occupations[4],\n",
    "                          occupations[5],\n",
    "                          occupations[6],\n",
    "                          occupations[7],\n",
    "                          occupations[8],\n",
    "                          occupations[10],\n",
    "                          occupations[11],\n",
    "                         occupations[12],\n",
    "                         occupations[13],\n",
    "                         occupations[14]],\n",
    "                         show_enclosure=False)\n",
    "pp(circles)\n",
    "circ.bubbles(circles)"
   ]
  },
  {
   "cell_type": "code",
   "execution_count": 52,
   "metadata": {},
   "outputs": [
    {
     "data": {
      "text/plain": [
       "2151152.11"
      ]
     },
     "execution_count": 52,
     "metadata": {},
     "output_type": "execute_result"
    }
   ],
   "source": []
  }
 ],
 "metadata": {
  "kernelspec": {
   "display_name": "Python 3",
   "language": "python",
   "name": "python3"
  },
  "language_info": {
   "codemirror_mode": {
    "name": "ipython",
    "version": 3
   },
   "file_extension": ".py",
   "mimetype": "text/x-python",
   "name": "python",
   "nbconvert_exporter": "python",
   "pygments_lexer": "ipython3",
   "version": "3.7.4"
  }
 },
 "nbformat": 4,
 "nbformat_minor": 4
}
